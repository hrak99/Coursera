{
 "cells": [
  {
   "cell_type": "markdown",
   "metadata": {
    "collapsed": true
   },
   "source": [
    "# Machine Learning & Signal Processing / Unsupervised Machine Learning"
   ]
  },
  {
   "cell_type": "markdown",
   "metadata": {},
   "source": [
    "# Unsupervised Machine Learning"
   ]
  },
  {
   "cell_type": "markdown",
   "metadata": {},
   "source": [
    "### Unsupervised Learning is mostly all about distances between point clouds.  \n",
    "### So, in one dimension it's pretty straightforward. (X2-X1)\n",
    "### n 2D space it's a bit more complicated. It's actually the distance is the square root of x1 minus x2 to the power of two plus y1 minus y2 to the power of two.  So, this might look familiar because it's basically the Pythagorean theorem.\n",
    "### we can actually compute distances between points in vector spaces of any dimensionSo, actually, unsupervised machine learning is mostly all about computing distances between points in hyper-dimensional vector space. This actually also holds for supervised machine learning but the fact that you have a target or labor makes it more easy to ignore this fact.\n",
    "### So, in Manhattan distance, we consider distance between two points reachable via a taxi in New York City downtown, and that means we cannot take the direct connection, we have to follow a square, and it turns out it doesn't matter which path you take as long as you are taking the shortest path. So, there exist multiple shortest path between two points in Manhattan distance. \n",
    "### o, Manhattan distance, for example, is a bit more outlier resistant than Euclidean distance and it's better suited for high dimensional \n",
    "### So, actually, unsupervised machine learning is mostly all about computing distances between points in hyper-dimensional vector space. This actually also holds for supervised machine learning but the fact that you have a target or labor makes it more easy to ignore this fact."
   ]
  },
  {
   "cell_type": "markdown",
   "metadata": {},
   "source": [
    "# CLustering"
   ]
  },
  {
   "cell_type": "markdown",
   "metadata": {},
   "source": [
    "## Introduction: K-Means"
   ]
  },
  {
   "cell_type": "markdown",
   "metadata": {},
   "source": [
    "### we have a look at clustering using the k-means algorithm. K-means is actually the Hello World clustering algorithm.\n",
    "### let's consider a 3D vector space with 12 examples or 12 points, and I intentionally created three clusters. So by the naked eye, it's easy to spot those. This sometimes also holds for revert dataset.\n",
    "###  So consider this example, you can easily spot the clusters and draw lines between them. If you do so and compare it with the correct assignments, you will notice that it's relatively easy to get a good accuracy here, just by using the naked eye.\n",
    "### But datasets tend to be high-dimensional, so in hyper-dimensional space, it's relatively hard to plot and draw lines. Therefore, you need an algorithm which helps you. So, this is where k-means kicks in. \n",
    "### k-means has to be initialized with the number of potential clusters. \n",
    "### o, assume we have some idea about the data and we set it to three. Then k-means, we randomly assign three cluster centroids into this 3D hyper space, and then it just computes the Euclidean distance between every point and every cluster centroid and takes the minimum for each point and assigns each point to the minimum distance centroid.\n",
    "### So, after this has happened, for average centroid, the point cloud surrounding the centroid is taken, and the mean of all those points is computed, and that gives us a new centroid. \n",
    "### Those are marked in black here and then point assignment to the nearest centroid happens again. After this has been done, again, the mean of the new point clouds is computed, and again those get the new centroids. This is iterative algorithm and we can basically stop when we are converging.\n",
    "### converging means we are actually optimizing over this function here. So, what we want to do is we want to find an optimal assignment of points to cluster centroids. \n",
    "### Those are in the set S, and in addition, we want to find optimal positions of those cluster centroids. So, here this sum goes up to K.\n",
    "### That's the number of clusters and here we see that we are taking the sum individually for each cluster centroid. So, this sum basically is nothing else than the distance between each point and the current cluster centroid, and we take the absolute value and we square it.\n",
    "### The reason why we square it, again, is to penalize big distances and to favor small distances. \n",
    "### clustering is nothing else than assigning points to clusters and in the specific case of k-means via some sort of drawing hyper-dimensional spheres around cluster centroids, and whatever point lies in those hyperspheres belongs to the cluster and whatever point lies outside doesn't belong to the cluster and hopefully will belong to another cluster.\n",
    "### So, here you already see the limitation of k-means because we can only define and learn spherical cluster boundaries, and in later videos, we will learn how we can get over this limitation."
   ]
  },
  {
   "cell_type": "markdown",
   "metadata": {},
   "source": [
    "## Hierarchical Clustering "
   ]
  },
  {
   "cell_type": "markdown",
   "metadata": {},
   "source": [
    "### k-means is some sort of limited for two reasons. One reason is that, you can only learn hyperspheres as cluster boundaries, and the other limitation is that you have to specify the number of clusters you expect.\n",
    "### So, this is not the case in hierarchical clustering, which we'll learn in a second. \n",
    "### o, now let's consider this point count here. Obviously, those form four clusters, and here, hierarchical clustering knows two directions or two approaches. One is top-down, and the other is bottom-up. \n",
    "### So, let's start with bottom-up. That means we assign each point into a specific individual cluster. I've just illustrated this by coloring those. In the next step, we take always the closest points together and form a two-point cluster. So, here for example, you see two points have been colored blue, two points have been colored red, two points have been colored orange. \n",
    "### From there, we again search the two nearest cluster and form another cluster out of those, and they contain four points. So, you see here four points are being colored blue, four points are colored green, and four points are colored red for example. \n",
    "### We continue with that by continuously merging until we reach a peak cluster containing all the points. So, we stop here. Here we have found our four clusters.\n",
    "### So, one is blue, green, red, and magenta, and that's basically all\n",
    "### You can also use the top-down approach. That means initially, all the points assigned to the same cluster, and then we divide. So, we divide by distance, and we form four clusters in this case, and then we further divide again, until we reach the point where each individual point forms its own cluster.\n",
    "### No matter which approach we use, the end of this algorithm as output is a hierarchy between point relationships\n",
    "### So, in this case, you see a, b, c, d, e, and f at the initial step form one cluster on its own. But then, at a later stage, b and c are merged, and d and e are merged. Again later, d, e, and f are merged, then b, c, d, e, f are merged until we obtain one big cluster, which contains a, b, c, d, e, and f.\n",
    "### ow, we can choose how many clusters we expect to have by just drawing a boundary, and say, \"Okay. Let's consider, a, b, c, d, e, and f to be the best cluster assignment for our use case.\"\n",
    "### So, in summary, hierarchical clustering has two advantages over k-means. First of all, you don't have to specify k. That means you can have a look at the result, and later decide how many clusters you expect. Second, it can also learn non-spherical boundaries."
   ]
  },
  {
   "cell_type": "markdown",
   "metadata": {},
   "source": [
    "## Density Based CLustering"
   ]
  },
  {
   "cell_type": "markdown",
   "metadata": {},
   "source": [
    "### Density-based clustering is also known as DBSCAN or density-based spatial clustering of applications with noise. It works by defining a cluster as the maximal set of density connected points.\n",
    "### There are two parameters that are taken into account, epsilon and minimum points. Epsilon is the maximum radius of the neighborhood and minimum points is the minimum number of points in the epsilon neighborhood to define a cluster.\n",
    "### There are three classifications of points. They are core, border, and outlier.\n",
    "### A core point has at least minimum points within its epsilon neighborhood including itself.These are points that are at the interior of a cluster.\n",
    "### A border point has less than minimum points within its epsilon neighborhood but can be reached by the cluster. hat is, it's in the neighborhood of a core point. \n",
    "### And finally, an outlier or noise point is a point that cannot be reached by a cluster.\n",
    "### A point y is said to be reachable from x if there is a path p1 to pn with p1 = x and pn = y, where each pi + 1 on the path must be core points, with the possible exception of pn.\n",
    "### An object y is directly density-reachable from object x if x is a core object and y is in x's epsilon neighborhood. A is directly density-reachable from b, b is directly density-reachable from c, a is indirectly density-reachable from d, d is not density reachable from a, since a is not a core point.\n",
    "### Density based clustering works by picking a random point that does not belong to a cluster or is an outlier, and determines if that point is a core point. If not, label it as an outlier.\n",
    "### Now we'll pick another core point at random and determine if it is a core point. If it is a core point, then all of the directly reachable nodes are assigned to the cluster.\n",
    "### Then do neighbor jumps to all reachable points and add them to the cluster. Keep finding neighbors until you're unable to. This point would be labelled as a border.\n",
    "### At this point, it's important to know the difference between density-based clustering or DBSCAN and K-means. DBSCAN is effective at cutting the noise out of data sets by labelling them as outlier, whereas K-means uses the entire data set.\n",
    "### Let's run DBSCAN. We'll see that it'll correctly group the top half moon as a cluster and it'll do the same for the bottom half moon. Then it'll predict the rest of the points or outlier or noise, which is correct of course.\n",
    "###  K-means has a huge disadvantage, and that it considers the whole data set and can not distinguish noise from cluster groupings. It might also identify clusters incorrectly due to it's reliance on centroid placements."
   ]
  },
  {
   "cell_type": "markdown",
   "metadata": {},
   "source": [
    "## Reading on CLustering Evaluation and Assessment "
   ]
  },
  {
   "cell_type": "markdown",
   "metadata": {},
   "source": [
    "### https://en.wikipedia.org/wiki/Cluster_analysis#Evaluation_and_assessment"
   ]
  },
  {
   "cell_type": "markdown",
   "metadata": {},
   "source": [
    "## Use K-Means in APache SparkML"
   ]
  },
  {
   "cell_type": "markdown",
   "metadata": {},
   "source": [
    "### o after we have loaded data from object star, we apply our feature extraction pipeline by generating a feature vector out of X, Y and Z."
   ]
  },
  {
   "cell_type": "code",
   "execution_count": 5,
   "metadata": {
    "collapsed": true
   },
   "outputs": [
    {
     "ename": "Py4JJavaError",
     "evalue": "An error occurred while calling o153.parquet.\n: org.apache.spark.SparkException: Job aborted due to stage failure: Task 0 in stage 1.0 failed 10 times, most recent failure: Lost task 0.9 in stage 1.0 (TID 19, yp-spark-dal09-env5-0035, executor d5ab7cfe-40c3-4a6a-872c-6e2f96122cfd): java.io.IOException: Could not read footer for file: FileStatus{path=cos://advanceddatascience-donotdelete-pr-wi2dpsm1nwyabr.os_d677618706764068bebe9e144db03560_configs/a0_m3_exercice2.ipynb - Copy.txt; isDirectory=false; length=4772; replication=0; blocksize=0; modification_time=0; access_time=0; owner=; group=; permission=rw-rw-rw-; isSymlink=false}\n\tat org.apache.spark.sql.execution.datasources.parquet.ParquetFileFormat$$anonfun$readParquetFootersInParallel$1.apply(ParquetFileFormat.scala:515)\n\tat org.apache.spark.sql.execution.datasources.parquet.ParquetFileFormat$$anonfun$readParquetFootersInParallel$1.apply(ParquetFileFormat.scala:502)\n\tat scala.collection.parallel.AugmentedIterableIterator$class.flatmap2combiner(RemainsIterator.scala:132)\n\tat scala.collection.parallel.immutable.ParVector$ParVectorIterator.flatmap2combiner(ParVector.scala:62)\n\tat scala.collection.parallel.ParIterableLike$FlatMap.leaf(ParIterableLike.scala:1072)\n\tat scala.collection.parallel.Task$$anonfun$tryLeaf$1.apply$mcV$sp(Tasks.scala:49)\n\tat scala.collection.parallel.Task$$anonfun$tryLeaf$1.apply(Tasks.scala:48)\n\tat scala.collection.parallel.Task$$anonfun$tryLeaf$1.apply(Tasks.scala:48)\n\tat scala.collection.parallel.Task$class.tryLeaf(Tasks.scala:51)\n\tat scala.collection.parallel.ParIterableLike$FlatMap.tryLeaf(ParIterableLike.scala:1068)\n\tat scala.collection.parallel.AdaptiveWorkStealingTasks$WrappedTask$class.compute(Tasks.scala:152)\n\tat scala.collection.parallel.AdaptiveWorkStealingForkJoinTasks$WrappedTask.compute(Tasks.scala:443)\n\tat scala.concurrent.forkjoin.RecursiveAction.exec(RecursiveAction.java:160)\n\tat scala.concurrent.forkjoin.ForkJoinTask.doExec(ForkJoinTask.java:260)\n\tat scala.concurrent.forkjoin.ForkJoinTask.doJoin(ForkJoinTask.java:341)\n\tat scala.concurrent.forkjoin.ForkJoinTask.join(ForkJoinTask.java:673)\n\tat scala.collection.parallel.ForkJoinTasks$WrappedTask$class.sync(Tasks.scala:378)\n\tat scala.collection.parallel.AdaptiveWorkStealingForkJoinTasks$WrappedTask.sync(Tasks.scala:443)\n\tat scala.collection.parallel.ForkJoinTasks$class.executeAndWaitResult(Tasks.scala:426)\n\tat scala.collection.parallel.ForkJoinTaskSupport.executeAndWaitResult(TaskSupport.scala:56)\n\tat scala.collection.parallel.ParIterableLike$ResultMapping.leaf(ParIterableLike.scala:958)\n\tat scala.collection.parallel.Task$$anonfun$tryLeaf$1.apply$mcV$sp(Tasks.scala:49)\n\tat scala.collection.parallel.Task$$anonfun$tryLeaf$1.apply(Tasks.scala:48)\n\tat scala.collection.parallel.Task$$anonfun$tryLeaf$1.apply(Tasks.scala:48)\n\tat scala.collection.parallel.Task$class.tryLeaf(Tasks.scala:51)\n\tat scala.collection.parallel.ParIterableLike$ResultMapping.tryLeaf(ParIterableLike.scala:953)\n\tat scala.collection.parallel.AdaptiveWorkStealingTasks$WrappedTask$class.compute(Tasks.scala:152)\n\tat scala.collection.parallel.AdaptiveWorkStealingForkJoinTasks$WrappedTask.compute(Tasks.scala:443)\n\tat scala.concurrent.forkjoin.RecursiveAction.exec(RecursiveAction.java:160)\n\tat scala.concurrent.forkjoin.ForkJoinTask.doExec(ForkJoinTask.java:260)\n\tat scala.concurrent.forkjoin.ForkJoinPool$WorkQueue.runTask(ForkJoinPool.java:1339)\n\tat scala.concurrent.forkjoin.ForkJoinPool.runWorker(ForkJoinPool.java:1979)\n\tat scala.concurrent.forkjoin.ForkJoinWorkerThread.run(ForkJoinWorkerThread.java:107)\nCaused by: java.lang.RuntimeException: cos://advanceddatascience-donotdelete-pr-wi2dpsm1nwyabr.os_d677618706764068bebe9e144db03560_configs/a0_m3_exercice2.ipynb - Copy.txt is not a Parquet file. expected magic number at tail [80, 65, 82, 49] but found [48, 10, 125, 10]\n\tat org.apache.parquet.hadoop.ParquetFileReader.readFooter(ParquetFileReader.java:423)\n\tat org.apache.spark.sql.execution.datasources.parquet.ParquetFileFormat$$anonfun$readParquetFootersInParallel$1.apply(ParquetFileFormat.scala:508)\n\t... 32 more\n\nDriver stacktrace:\n\tat org.apache.spark.scheduler.DAGScheduler.org$apache$spark$scheduler$DAGScheduler$$failJobAndIndependentStages(DAGScheduler.scala:1461)\n\tat org.apache.spark.scheduler.DAGScheduler$$anonfun$abortStage$1.apply(DAGScheduler.scala:1449)\n\tat org.apache.spark.scheduler.DAGScheduler$$anonfun$abortStage$1.apply(DAGScheduler.scala:1448)\n\tat scala.collection.mutable.ResizableArray$class.foreach(ResizableArray.scala:59)\n\tat scala.collection.mutable.ArrayBuffer.foreach(ArrayBuffer.scala:48)\n\tat org.apache.spark.scheduler.DAGScheduler.abortStage(DAGScheduler.scala:1448)\n\tat org.apache.spark.scheduler.DAGScheduler$$anonfun$handleTaskSetFailed$1.apply(DAGScheduler.scala:803)\n\tat org.apache.spark.scheduler.DAGScheduler$$anonfun$handleTaskSetFailed$1.apply(DAGScheduler.scala:803)\n\tat scala.Option.foreach(Option.scala:257)\n\tat org.apache.spark.scheduler.DAGScheduler.handleTaskSetFailed(DAGScheduler.scala:803)\n\tat org.apache.spark.scheduler.DAGSchedulerEventProcessLoop.doOnReceive(DAGScheduler.scala:1676)\n\tat org.apache.spark.scheduler.DAGSchedulerEventProcessLoop.onReceive(DAGScheduler.scala:1631)\n\tat org.apache.spark.scheduler.DAGSchedulerEventProcessLoop.onReceive(DAGScheduler.scala:1620)\n\tat org.apache.spark.util.EventLoop$$anon$1.run(EventLoop.scala:48)\n\tat org.apache.spark.scheduler.DAGScheduler.runJob(DAGScheduler.scala:629)\n\tat org.apache.spark.SparkContext.runJob(SparkContext.scala:1941)\n\tat org.apache.spark.SparkContext.runJob(SparkContext.scala:1954)\n\tat org.apache.spark.SparkContext.runJob(SparkContext.scala:1967)\n\tat org.apache.spark.SparkContext.runJob(SparkContext.scala:1981)\n\tat org.apache.spark.rdd.RDD$$anonfun$collect$1.apply(RDD.scala:956)\n\tat org.apache.spark.rdd.RDDOperationScope$.withScope(RDDOperationScope.scala:151)\n\tat org.apache.spark.rdd.RDDOperationScope$.withScope(RDDOperationScope.scala:112)\n\tat org.apache.spark.rdd.RDD.withScope(RDD.scala:381)\n\tat org.apache.spark.rdd.RDD.collect(RDD.scala:955)\n\tat org.apache.spark.sql.execution.datasources.parquet.ParquetFileFormat$.mergeSchemasInParallel(ParquetFileFormat.scala:604)\n\tat org.apache.spark.sql.execution.datasources.parquet.ParquetFileFormat.inferSchema(ParquetFileFormat.scala:239)\n\tat org.apache.spark.sql.execution.datasources.DataSource$$anonfun$7.apply(DataSource.scala:184)\n\tat org.apache.spark.sql.execution.datasources.DataSource$$anonfun$7.apply(DataSource.scala:184)\n\tat scala.Option.orElse(Option.scala:289)\n\tat org.apache.spark.sql.execution.datasources.DataSource.org$apache$spark$sql$execution$datasources$DataSource$$getOrInferFileFormatSchema(DataSource.scala:183)\n\tat org.apache.spark.sql.execution.datasources.DataSource.resolveRelation(DataSource.scala:387)\n\tat org.apache.spark.sql.DataFrameReader.load(DataFrameReader.scala:152)\n\tat org.apache.spark.sql.DataFrameReader.parquet(DataFrameReader.scala:441)\n\tat sun.reflect.NativeMethodAccessorImpl.invoke0(Native Method)\n\tat sun.reflect.NativeMethodAccessorImpl.invoke(NativeMethodAccessorImpl.java:90)\n\tat sun.reflect.DelegatingMethodAccessorImpl.invoke(DelegatingMethodAccessorImpl.java:55)\n\tat java.lang.reflect.Method.invoke(Method.java:508)\n\tat py4j.reflection.MethodInvoker.invoke(MethodInvoker.java:244)\n\tat py4j.reflection.ReflectionEngine.invoke(ReflectionEngine.java:357)\n\tat py4j.Gateway.invoke(Gateway.java:282)\n\tat py4j.commands.AbstractCommand.invokeMethod(AbstractCommand.java:132)\n\tat py4j.commands.CallCommand.execute(CallCommand.java:79)\n\tat py4j.GatewayConnection.run(GatewayConnection.java:238)\n\tat java.lang.Thread.run(Thread.java:812)\nCaused by: java.io.IOException: Could not read footer for file: FileStatus{path=cos://advanceddatascience-donotdelete-pr-wi2dpsm1nwyabr.os_d677618706764068bebe9e144db03560_configs/a0_m3_exercice2.ipynb - Copy.txt; isDirectory=false; length=4772; replication=0; blocksize=0; modification_time=0; access_time=0; owner=; group=; permission=rw-rw-rw-; isSymlink=false}\n\tat org.apache.spark.sql.execution.datasources.parquet.ParquetFileFormat$$anonfun$readParquetFootersInParallel$1.apply(ParquetFileFormat.scala:515)\n\tat org.apache.spark.sql.execution.datasources.parquet.ParquetFileFormat$$anonfun$readParquetFootersInParallel$1.apply(ParquetFileFormat.scala:502)\n\tat scala.collection.parallel.AugmentedIterableIterator$class.flatmap2combiner(RemainsIterator.scala:132)\n\tat scala.collection.parallel.immutable.ParVector$ParVectorIterator.flatmap2combiner(ParVector.scala:62)\n\tat scala.collection.parallel.ParIterableLike$FlatMap.leaf(ParIterableLike.scala:1072)\n\tat scala.collection.parallel.Task$$anonfun$tryLeaf$1.apply$mcV$sp(Tasks.scala:49)\n\tat scala.collection.parallel.Task$$anonfun$tryLeaf$1.apply(Tasks.scala:48)\n\tat scala.collection.parallel.Task$$anonfun$tryLeaf$1.apply(Tasks.scala:48)\n\tat scala.collection.parallel.Task$class.tryLeaf(Tasks.scala:51)\n\tat scala.collection.parallel.ParIterableLike$FlatMap.tryLeaf(ParIterableLike.scala:1068)\n\tat scala.collection.parallel.AdaptiveWorkStealingTasks$WrappedTask$class.compute(Tasks.scala:152)\n\tat scala.collection.parallel.AdaptiveWorkStealingForkJoinTasks$WrappedTask.compute(Tasks.scala:443)\n\tat scala.concurrent.forkjoin.RecursiveAction.exec(RecursiveAction.java:160)\n\tat scala.concurrent.forkjoin.ForkJoinTask.doExec(ForkJoinTask.java:260)\n\tat scala.concurrent.forkjoin.ForkJoinTask.doJoin(ForkJoinTask.java:341)\n\tat scala.concurrent.forkjoin.ForkJoinTask.join(ForkJoinTask.java:673)\n\tat scala.collection.parallel.ForkJoinTasks$WrappedTask$class.sync(Tasks.scala:378)\n\tat scala.collection.parallel.AdaptiveWorkStealingForkJoinTasks$WrappedTask.sync(Tasks.scala:443)\n\tat scala.collection.parallel.ForkJoinTasks$class.executeAndWaitResult(Tasks.scala:426)\n\tat scala.collection.parallel.ForkJoinTaskSupport.executeAndWaitResult(TaskSupport.scala:56)\n\tat scala.collection.parallel.ParIterableLike$ResultMapping.leaf(ParIterableLike.scala:958)\n\tat scala.collection.parallel.Task$$anonfun$tryLeaf$1.apply$mcV$sp(Tasks.scala:49)\n\tat scala.collection.parallel.Task$$anonfun$tryLeaf$1.apply(Tasks.scala:48)\n\tat scala.collection.parallel.Task$$anonfun$tryLeaf$1.apply(Tasks.scala:48)\n\tat scala.collection.parallel.Task$class.tryLeaf(Tasks.scala:51)\n\tat scala.collection.parallel.ParIterableLike$ResultMapping.tryLeaf(ParIterableLike.scala:953)\n\tat scala.collection.parallel.AdaptiveWorkStealingTasks$WrappedTask$class.compute(Tasks.scala:152)\n\tat scala.collection.parallel.AdaptiveWorkStealingForkJoinTasks$WrappedTask.compute(Tasks.scala:443)\n\tat scala.concurrent.forkjoin.RecursiveAction.exec(RecursiveAction.java:160)\n\tat scala.concurrent.forkjoin.ForkJoinTask.doExec(ForkJoinTask.java:260)\n\tat scala.concurrent.forkjoin.ForkJoinPool$WorkQueue.runTask(ForkJoinPool.java:1339)\n\tat scala.concurrent.forkjoin.ForkJoinPool.runWorker(ForkJoinPool.java:1979)\n\tat scala.concurrent.forkjoin.ForkJoinWorkerThread.run(ForkJoinWorkerThread.java:107)\nCaused by: java.lang.RuntimeException: cos://advanceddatascience-donotdelete-pr-wi2dpsm1nwyabr.os_d677618706764068bebe9e144db03560_configs/a0_m3_exercice2.ipynb - Copy.txt is not a Parquet file. expected magic number at tail [80, 65, 82, 49] but found [48, 10, 125, 10]\n\tat org.apache.parquet.hadoop.ParquetFileReader.readFooter(ParquetFileReader.java:423)\n\tat org.apache.spark.sql.execution.datasources.parquet.ParquetFileFormat$$anonfun$readParquetFootersInParallel$1.apply(ParquetFileFormat.scala:508)\n\t... 32 more\n",
     "output_type": "error",
     "traceback": [
      "\u001b[0;31m\u001b[0m",
      "\u001b[0;31mPy4JJavaError\u001b[0mTraceback (most recent call last)",
      "\u001b[0;32m<ipython-input-5-5ed689934c5f>\u001b[0m in \u001b[0;36m<module>\u001b[0;34m()\u001b[0m\n\u001b[1;32m     18\u001b[0m \u001b[0;31m# The SparkSession object is already initialized for you.\u001b[0m\u001b[0;34m\u001b[0m\u001b[0;34m\u001b[0m\u001b[0m\n\u001b[1;32m     19\u001b[0m \u001b[0;31m# The following variable contains the path to your file on your IBM Cloud Object Storage.\u001b[0m\u001b[0;34m\u001b[0m\u001b[0;34m\u001b[0m\u001b[0m\n\u001b[0;32m---> 20\u001b[0;31m \u001b[0mdf\u001b[0m \u001b[0;34m=\u001b[0m \u001b[0mspark\u001b[0m\u001b[0;34m.\u001b[0m\u001b[0mread\u001b[0m\u001b[0;34m.\u001b[0m\u001b[0mparquet\u001b[0m\u001b[0;34m(\u001b[0m\u001b[0mcos\u001b[0m\u001b[0;34m.\u001b[0m\u001b[0murl\u001b[0m\u001b[0;34m(\u001b[0m\u001b[0;34m'a0_m3_exercice2.ipynb - Copy.txt'\u001b[0m\u001b[0;34m,\u001b[0m \u001b[0;34m'advanceddatascience-donotdelete-pr-wi2dpsm1nwyabr'\u001b[0m\u001b[0;34m)\u001b[0m\u001b[0;34m)\u001b[0m\u001b[0;34m\u001b[0m\u001b[0m\n\u001b[0m",
      "\u001b[0;32m/usr/local/src/spark21master/spark/python/pyspark/sql/readwriter.py\u001b[0m in \u001b[0;36mparquet\u001b[0;34m(self, *paths)\u001b[0m\n\u001b[1;32m    272\u001b[0m         \u001b[0;34m[\u001b[0m\u001b[0;34m(\u001b[0m\u001b[0;34m'name'\u001b[0m\u001b[0;34m,\u001b[0m \u001b[0;34m'string'\u001b[0m\u001b[0;34m)\u001b[0m\u001b[0;34m,\u001b[0m \u001b[0;34m(\u001b[0m\u001b[0;34m'year'\u001b[0m\u001b[0;34m,\u001b[0m \u001b[0;34m'int'\u001b[0m\u001b[0;34m)\u001b[0m\u001b[0;34m,\u001b[0m \u001b[0;34m(\u001b[0m\u001b[0;34m'month'\u001b[0m\u001b[0;34m,\u001b[0m \u001b[0;34m'int'\u001b[0m\u001b[0;34m)\u001b[0m\u001b[0;34m,\u001b[0m \u001b[0;34m(\u001b[0m\u001b[0;34m'day'\u001b[0m\u001b[0;34m,\u001b[0m \u001b[0;34m'int'\u001b[0m\u001b[0;34m)\u001b[0m\u001b[0;34m]\u001b[0m\u001b[0;34m\u001b[0m\u001b[0m\n\u001b[1;32m    273\u001b[0m         \"\"\"\n\u001b[0;32m--> 274\u001b[0;31m         \u001b[0;32mreturn\u001b[0m \u001b[0mself\u001b[0m\u001b[0;34m.\u001b[0m\u001b[0m_df\u001b[0m\u001b[0;34m(\u001b[0m\u001b[0mself\u001b[0m\u001b[0;34m.\u001b[0m\u001b[0m_jreader\u001b[0m\u001b[0;34m.\u001b[0m\u001b[0mparquet\u001b[0m\u001b[0;34m(\u001b[0m\u001b[0m_to_seq\u001b[0m\u001b[0;34m(\u001b[0m\u001b[0mself\u001b[0m\u001b[0;34m.\u001b[0m\u001b[0m_spark\u001b[0m\u001b[0;34m.\u001b[0m\u001b[0m_sc\u001b[0m\u001b[0;34m,\u001b[0m \u001b[0mpaths\u001b[0m\u001b[0;34m)\u001b[0m\u001b[0;34m)\u001b[0m\u001b[0;34m)\u001b[0m\u001b[0;34m\u001b[0m\u001b[0m\n\u001b[0m\u001b[1;32m    275\u001b[0m \u001b[0;34m\u001b[0m\u001b[0m\n\u001b[1;32m    276\u001b[0m     \u001b[0;34m@\u001b[0m\u001b[0mignore_unicode_prefix\u001b[0m\u001b[0;34m\u001b[0m\u001b[0m\n",
      "\u001b[0;32m/usr/local/src/spark21master/spark/python/lib/py4j-0.10.7-src.zip/py4j/java_gateway.py\u001b[0m in \u001b[0;36m__call__\u001b[0;34m(self, *args)\u001b[0m\n\u001b[1;32m   1255\u001b[0m         \u001b[0manswer\u001b[0m \u001b[0;34m=\u001b[0m \u001b[0mself\u001b[0m\u001b[0;34m.\u001b[0m\u001b[0mgateway_client\u001b[0m\u001b[0;34m.\u001b[0m\u001b[0msend_command\u001b[0m\u001b[0;34m(\u001b[0m\u001b[0mcommand\u001b[0m\u001b[0;34m)\u001b[0m\u001b[0;34m\u001b[0m\u001b[0m\n\u001b[1;32m   1256\u001b[0m         return_value = get_return_value(\n\u001b[0;32m-> 1257\u001b[0;31m             answer, self.gateway_client, self.target_id, self.name)\n\u001b[0m\u001b[1;32m   1258\u001b[0m \u001b[0;34m\u001b[0m\u001b[0m\n\u001b[1;32m   1259\u001b[0m         \u001b[0;32mfor\u001b[0m \u001b[0mtemp_arg\u001b[0m \u001b[0;32min\u001b[0m \u001b[0mtemp_args\u001b[0m\u001b[0;34m:\u001b[0m\u001b[0;34m\u001b[0m\u001b[0m\n",
      "\u001b[0;32m/usr/local/src/spark21master/spark/python/pyspark/sql/utils.py\u001b[0m in \u001b[0;36mdeco\u001b[0;34m(*a, **kw)\u001b[0m\n\u001b[1;32m     61\u001b[0m     \u001b[0;32mdef\u001b[0m \u001b[0mdeco\u001b[0m\u001b[0;34m(\u001b[0m\u001b[0;34m*\u001b[0m\u001b[0ma\u001b[0m\u001b[0;34m,\u001b[0m \u001b[0;34m**\u001b[0m\u001b[0mkw\u001b[0m\u001b[0;34m)\u001b[0m\u001b[0;34m:\u001b[0m\u001b[0;34m\u001b[0m\u001b[0m\n\u001b[1;32m     62\u001b[0m         \u001b[0;32mtry\u001b[0m\u001b[0;34m:\u001b[0m\u001b[0;34m\u001b[0m\u001b[0m\n\u001b[0;32m---> 63\u001b[0;31m             \u001b[0;32mreturn\u001b[0m \u001b[0mf\u001b[0m\u001b[0;34m(\u001b[0m\u001b[0;34m*\u001b[0m\u001b[0ma\u001b[0m\u001b[0;34m,\u001b[0m \u001b[0;34m**\u001b[0m\u001b[0mkw\u001b[0m\u001b[0;34m)\u001b[0m\u001b[0;34m\u001b[0m\u001b[0m\n\u001b[0m\u001b[1;32m     64\u001b[0m         \u001b[0;32mexcept\u001b[0m \u001b[0mpy4j\u001b[0m\u001b[0;34m.\u001b[0m\u001b[0mprotocol\u001b[0m\u001b[0;34m.\u001b[0m\u001b[0mPy4JJavaError\u001b[0m \u001b[0;32mas\u001b[0m \u001b[0me\u001b[0m\u001b[0;34m:\u001b[0m\u001b[0;34m\u001b[0m\u001b[0m\n\u001b[1;32m     65\u001b[0m             \u001b[0ms\u001b[0m \u001b[0;34m=\u001b[0m \u001b[0me\u001b[0m\u001b[0;34m.\u001b[0m\u001b[0mjava_exception\u001b[0m\u001b[0;34m.\u001b[0m\u001b[0mtoString\u001b[0m\u001b[0;34m(\u001b[0m\u001b[0;34m)\u001b[0m\u001b[0;34m\u001b[0m\u001b[0m\n",
      "\u001b[0;32m/usr/local/src/spark21master/spark/python/lib/py4j-0.10.7-src.zip/py4j/protocol.py\u001b[0m in \u001b[0;36mget_return_value\u001b[0;34m(answer, gateway_client, target_id, name)\u001b[0m\n\u001b[1;32m    326\u001b[0m                 raise Py4JJavaError(\n\u001b[1;32m    327\u001b[0m                     \u001b[0;34m\"An error occurred while calling {0}{1}{2}.\\n\"\u001b[0m\u001b[0;34m.\u001b[0m\u001b[0;34m\u001b[0m\u001b[0m\n\u001b[0;32m--> 328\u001b[0;31m                     format(target_id, \".\", name), value)\n\u001b[0m\u001b[1;32m    329\u001b[0m             \u001b[0;32melse\u001b[0m\u001b[0;34m:\u001b[0m\u001b[0;34m\u001b[0m\u001b[0m\n\u001b[1;32m    330\u001b[0m                 raise Py4JError(\n",
      "\u001b[0;31mPy4JJavaError\u001b[0m: An error occurred while calling o153.parquet.\n: org.apache.spark.SparkException: Job aborted due to stage failure: Task 0 in stage 1.0 failed 10 times, most recent failure: Lost task 0.9 in stage 1.0 (TID 19, yp-spark-dal09-env5-0035, executor d5ab7cfe-40c3-4a6a-872c-6e2f96122cfd): java.io.IOException: Could not read footer for file: FileStatus{path=cos://advanceddatascience-donotdelete-pr-wi2dpsm1nwyabr.os_d677618706764068bebe9e144db03560_configs/a0_m3_exercice2.ipynb - Copy.txt; isDirectory=false; length=4772; replication=0; blocksize=0; modification_time=0; access_time=0; owner=; group=; permission=rw-rw-rw-; isSymlink=false}\n\tat org.apache.spark.sql.execution.datasources.parquet.ParquetFileFormat$$anonfun$readParquetFootersInParallel$1.apply(ParquetFileFormat.scala:515)\n\tat org.apache.spark.sql.execution.datasources.parquet.ParquetFileFormat$$anonfun$readParquetFootersInParallel$1.apply(ParquetFileFormat.scala:502)\n\tat scala.collection.parallel.AugmentedIterableIterator$class.flatmap2combiner(RemainsIterator.scala:132)\n\tat scala.collection.parallel.immutable.ParVector$ParVectorIterator.flatmap2combiner(ParVector.scala:62)\n\tat scala.collection.parallel.ParIterableLike$FlatMap.leaf(ParIterableLike.scala:1072)\n\tat scala.collection.parallel.Task$$anonfun$tryLeaf$1.apply$mcV$sp(Tasks.scala:49)\n\tat scala.collection.parallel.Task$$anonfun$tryLeaf$1.apply(Tasks.scala:48)\n\tat scala.collection.parallel.Task$$anonfun$tryLeaf$1.apply(Tasks.scala:48)\n\tat scala.collection.parallel.Task$class.tryLeaf(Tasks.scala:51)\n\tat scala.collection.parallel.ParIterableLike$FlatMap.tryLeaf(ParIterableLike.scala:1068)\n\tat scala.collection.parallel.AdaptiveWorkStealingTasks$WrappedTask$class.compute(Tasks.scala:152)\n\tat scala.collection.parallel.AdaptiveWorkStealingForkJoinTasks$WrappedTask.compute(Tasks.scala:443)\n\tat scala.concurrent.forkjoin.RecursiveAction.exec(RecursiveAction.java:160)\n\tat scala.concurrent.forkjoin.ForkJoinTask.doExec(ForkJoinTask.java:260)\n\tat scala.concurrent.forkjoin.ForkJoinTask.doJoin(ForkJoinTask.java:341)\n\tat scala.concurrent.forkjoin.ForkJoinTask.join(ForkJoinTask.java:673)\n\tat scala.collection.parallel.ForkJoinTasks$WrappedTask$class.sync(Tasks.scala:378)\n\tat scala.collection.parallel.AdaptiveWorkStealingForkJoinTasks$WrappedTask.sync(Tasks.scala:443)\n\tat scala.collection.parallel.ForkJoinTasks$class.executeAndWaitResult(Tasks.scala:426)\n\tat scala.collection.parallel.ForkJoinTaskSupport.executeAndWaitResult(TaskSupport.scala:56)\n\tat scala.collection.parallel.ParIterableLike$ResultMapping.leaf(ParIterableLike.scala:958)\n\tat scala.collection.parallel.Task$$anonfun$tryLeaf$1.apply$mcV$sp(Tasks.scala:49)\n\tat scala.collection.parallel.Task$$anonfun$tryLeaf$1.apply(Tasks.scala:48)\n\tat scala.collection.parallel.Task$$anonfun$tryLeaf$1.apply(Tasks.scala:48)\n\tat scala.collection.parallel.Task$class.tryLeaf(Tasks.scala:51)\n\tat scala.collection.parallel.ParIterableLike$ResultMapping.tryLeaf(ParIterableLike.scala:953)\n\tat scala.collection.parallel.AdaptiveWorkStealingTasks$WrappedTask$class.compute(Tasks.scala:152)\n\tat scala.collection.parallel.AdaptiveWorkStealingForkJoinTasks$WrappedTask.compute(Tasks.scala:443)\n\tat scala.concurrent.forkjoin.RecursiveAction.exec(RecursiveAction.java:160)\n\tat scala.concurrent.forkjoin.ForkJoinTask.doExec(ForkJoinTask.java:260)\n\tat scala.concurrent.forkjoin.ForkJoinPool$WorkQueue.runTask(ForkJoinPool.java:1339)\n\tat scala.concurrent.forkjoin.ForkJoinPool.runWorker(ForkJoinPool.java:1979)\n\tat scala.concurrent.forkjoin.ForkJoinWorkerThread.run(ForkJoinWorkerThread.java:107)\nCaused by: java.lang.RuntimeException: cos://advanceddatascience-donotdelete-pr-wi2dpsm1nwyabr.os_d677618706764068bebe9e144db03560_configs/a0_m3_exercice2.ipynb - Copy.txt is not a Parquet file. expected magic number at tail [80, 65, 82, 49] but found [48, 10, 125, 10]\n\tat org.apache.parquet.hadoop.ParquetFileReader.readFooter(ParquetFileReader.java:423)\n\tat org.apache.spark.sql.execution.datasources.parquet.ParquetFileFormat$$anonfun$readParquetFootersInParallel$1.apply(ParquetFileFormat.scala:508)\n\t... 32 more\n\nDriver stacktrace:\n\tat org.apache.spark.scheduler.DAGScheduler.org$apache$spark$scheduler$DAGScheduler$$failJobAndIndependentStages(DAGScheduler.scala:1461)\n\tat org.apache.spark.scheduler.DAGScheduler$$anonfun$abortStage$1.apply(DAGScheduler.scala:1449)\n\tat org.apache.spark.scheduler.DAGScheduler$$anonfun$abortStage$1.apply(DAGScheduler.scala:1448)\n\tat scala.collection.mutable.ResizableArray$class.foreach(ResizableArray.scala:59)\n\tat scala.collection.mutable.ArrayBuffer.foreach(ArrayBuffer.scala:48)\n\tat org.apache.spark.scheduler.DAGScheduler.abortStage(DAGScheduler.scala:1448)\n\tat org.apache.spark.scheduler.DAGScheduler$$anonfun$handleTaskSetFailed$1.apply(DAGScheduler.scala:803)\n\tat org.apache.spark.scheduler.DAGScheduler$$anonfun$handleTaskSetFailed$1.apply(DAGScheduler.scala:803)\n\tat scala.Option.foreach(Option.scala:257)\n\tat org.apache.spark.scheduler.DAGScheduler.handleTaskSetFailed(DAGScheduler.scala:803)\n\tat org.apache.spark.scheduler.DAGSchedulerEventProcessLoop.doOnReceive(DAGScheduler.scala:1676)\n\tat org.apache.spark.scheduler.DAGSchedulerEventProcessLoop.onReceive(DAGScheduler.scala:1631)\n\tat org.apache.spark.scheduler.DAGSchedulerEventProcessLoop.onReceive(DAGScheduler.scala:1620)\n\tat org.apache.spark.util.EventLoop$$anon$1.run(EventLoop.scala:48)\n\tat org.apache.spark.scheduler.DAGScheduler.runJob(DAGScheduler.scala:629)\n\tat org.apache.spark.SparkContext.runJob(SparkContext.scala:1941)\n\tat org.apache.spark.SparkContext.runJob(SparkContext.scala:1954)\n\tat org.apache.spark.SparkContext.runJob(SparkContext.scala:1967)\n\tat org.apache.spark.SparkContext.runJob(SparkContext.scala:1981)\n\tat org.apache.spark.rdd.RDD$$anonfun$collect$1.apply(RDD.scala:956)\n\tat org.apache.spark.rdd.RDDOperationScope$.withScope(RDDOperationScope.scala:151)\n\tat org.apache.spark.rdd.RDDOperationScope$.withScope(RDDOperationScope.scala:112)\n\tat org.apache.spark.rdd.RDD.withScope(RDD.scala:381)\n\tat org.apache.spark.rdd.RDD.collect(RDD.scala:955)\n\tat org.apache.spark.sql.execution.datasources.parquet.ParquetFileFormat$.mergeSchemasInParallel(ParquetFileFormat.scala:604)\n\tat org.apache.spark.sql.execution.datasources.parquet.ParquetFileFormat.inferSchema(ParquetFileFormat.scala:239)\n\tat org.apache.spark.sql.execution.datasources.DataSource$$anonfun$7.apply(DataSource.scala:184)\n\tat org.apache.spark.sql.execution.datasources.DataSource$$anonfun$7.apply(DataSource.scala:184)\n\tat scala.Option.orElse(Option.scala:289)\n\tat org.apache.spark.sql.execution.datasources.DataSource.org$apache$spark$sql$execution$datasources$DataSource$$getOrInferFileFormatSchema(DataSource.scala:183)\n\tat org.apache.spark.sql.execution.datasources.DataSource.resolveRelation(DataSource.scala:387)\n\tat org.apache.spark.sql.DataFrameReader.load(DataFrameReader.scala:152)\n\tat org.apache.spark.sql.DataFrameReader.parquet(DataFrameReader.scala:441)\n\tat sun.reflect.NativeMethodAccessorImpl.invoke0(Native Method)\n\tat sun.reflect.NativeMethodAccessorImpl.invoke(NativeMethodAccessorImpl.java:90)\n\tat sun.reflect.DelegatingMethodAccessorImpl.invoke(DelegatingMethodAccessorImpl.java:55)\n\tat java.lang.reflect.Method.invoke(Method.java:508)\n\tat py4j.reflection.MethodInvoker.invoke(MethodInvoker.java:244)\n\tat py4j.reflection.ReflectionEngine.invoke(ReflectionEngine.java:357)\n\tat py4j.Gateway.invoke(Gateway.java:282)\n\tat py4j.commands.AbstractCommand.invokeMethod(AbstractCommand.java:132)\n\tat py4j.commands.CallCommand.execute(CallCommand.java:79)\n\tat py4j.GatewayConnection.run(GatewayConnection.java:238)\n\tat java.lang.Thread.run(Thread.java:812)\nCaused by: java.io.IOException: Could not read footer for file: FileStatus{path=cos://advanceddatascience-donotdelete-pr-wi2dpsm1nwyabr.os_d677618706764068bebe9e144db03560_configs/a0_m3_exercice2.ipynb - Copy.txt; isDirectory=false; length=4772; replication=0; blocksize=0; modification_time=0; access_time=0; owner=; group=; permission=rw-rw-rw-; isSymlink=false}\n\tat org.apache.spark.sql.execution.datasources.parquet.ParquetFileFormat$$anonfun$readParquetFootersInParallel$1.apply(ParquetFileFormat.scala:515)\n\tat org.apache.spark.sql.execution.datasources.parquet.ParquetFileFormat$$anonfun$readParquetFootersInParallel$1.apply(ParquetFileFormat.scala:502)\n\tat scala.collection.parallel.AugmentedIterableIterator$class.flatmap2combiner(RemainsIterator.scala:132)\n\tat scala.collection.parallel.immutable.ParVector$ParVectorIterator.flatmap2combiner(ParVector.scala:62)\n\tat scala.collection.parallel.ParIterableLike$FlatMap.leaf(ParIterableLike.scala:1072)\n\tat scala.collection.parallel.Task$$anonfun$tryLeaf$1.apply$mcV$sp(Tasks.scala:49)\n\tat scala.collection.parallel.Task$$anonfun$tryLeaf$1.apply(Tasks.scala:48)\n\tat scala.collection.parallel.Task$$anonfun$tryLeaf$1.apply(Tasks.scala:48)\n\tat scala.collection.parallel.Task$class.tryLeaf(Tasks.scala:51)\n\tat scala.collection.parallel.ParIterableLike$FlatMap.tryLeaf(ParIterableLike.scala:1068)\n\tat scala.collection.parallel.AdaptiveWorkStealingTasks$WrappedTask$class.compute(Tasks.scala:152)\n\tat scala.collection.parallel.AdaptiveWorkStealingForkJoinTasks$WrappedTask.compute(Tasks.scala:443)\n\tat scala.concurrent.forkjoin.RecursiveAction.exec(RecursiveAction.java:160)\n\tat scala.concurrent.forkjoin.ForkJoinTask.doExec(ForkJoinTask.java:260)\n\tat scala.concurrent.forkjoin.ForkJoinTask.doJoin(ForkJoinTask.java:341)\n\tat scala.concurrent.forkjoin.ForkJoinTask.join(ForkJoinTask.java:673)\n\tat scala.collection.parallel.ForkJoinTasks$WrappedTask$class.sync(Tasks.scala:378)\n\tat scala.collection.parallel.AdaptiveWorkStealingForkJoinTasks$WrappedTask.sync(Tasks.scala:443)\n\tat scala.collection.parallel.ForkJoinTasks$class.executeAndWaitResult(Tasks.scala:426)\n\tat scala.collection.parallel.ForkJoinTaskSupport.executeAndWaitResult(TaskSupport.scala:56)\n\tat scala.collection.parallel.ParIterableLike$ResultMapping.leaf(ParIterableLike.scala:958)\n\tat scala.collection.parallel.Task$$anonfun$tryLeaf$1.apply$mcV$sp(Tasks.scala:49)\n\tat scala.collection.parallel.Task$$anonfun$tryLeaf$1.apply(Tasks.scala:48)\n\tat scala.collection.parallel.Task$$anonfun$tryLeaf$1.apply(Tasks.scala:48)\n\tat scala.collection.parallel.Task$class.tryLeaf(Tasks.scala:51)\n\tat scala.collection.parallel.ParIterableLike$ResultMapping.tryLeaf(ParIterableLike.scala:953)\n\tat scala.collection.parallel.AdaptiveWorkStealingTasks$WrappedTask$class.compute(Tasks.scala:152)\n\tat scala.collection.parallel.AdaptiveWorkStealingForkJoinTasks$WrappedTask.compute(Tasks.scala:443)\n\tat scala.concurrent.forkjoin.RecursiveAction.exec(RecursiveAction.java:160)\n\tat scala.concurrent.forkjoin.ForkJoinTask.doExec(ForkJoinTask.java:260)\n\tat scala.concurrent.forkjoin.ForkJoinPool$WorkQueue.runTask(ForkJoinPool.java:1339)\n\tat scala.concurrent.forkjoin.ForkJoinPool.runWorker(ForkJoinPool.java:1979)\n\tat scala.concurrent.forkjoin.ForkJoinWorkerThread.run(ForkJoinWorkerThread.java:107)\nCaused by: java.lang.RuntimeException: cos://advanceddatascience-donotdelete-pr-wi2dpsm1nwyabr.os_d677618706764068bebe9e144db03560_configs/a0_m3_exercice2.ipynb - Copy.txt is not a Parquet file. expected magic number at tail [80, 65, 82, 49] but found [48, 10, 125, 10]\n\tat org.apache.parquet.hadoop.ParquetFileReader.readFooter(ParquetFileReader.java:423)\n\tat org.apache.spark.sql.execution.datasources.parquet.ParquetFileFormat$$anonfun$readParquetFootersInParallel$1.apply(ParquetFileFormat.scala:508)\n\t... 32 more\n"
     ]
    }
   ],
   "source": [
    "\n",
    "import ibmos2spark\n",
    "\n",
    "# @hidden_cell\n",
    "credentials = {\n",
    "    'endpoint': 'https://s3-api.us-geo.objectstorage.service.networklayer.com',\n",
    "    'api_key': 'JgVr3TfkAXS1NLjS9FZfKSwmZJo67UYeoTiYEkab9p8t',\n",
    "    'service_id': 'iam-ServiceId-8d66ef68-3f6b-47ad-83db-53846e304673',\n",
    "    'iam_service_endpoint': 'https://iam.bluemix.net/oidc/token'}\n",
    "\n",
    "configuration_name = 'os_d677618706764068bebe9e144db03560_configs'\n",
    "cos = ibmos2spark.CloudObjectStorage(sc, credentials, configuration_name, 'bluemix_cos')\n",
    "\n",
    "from pyspark.sql import SparkSession\n",
    "spark = SparkSession.builder.getOrCreate()\n",
    "# Please read the documentation of PySpark to learn more about the possibilities to load data files.\n",
    "# PySpark documentation: https://spark.apache.org/docs/2.0.1/api/python/pyspark.sql.html#pyspark.sql.SparkSession\n",
    "# The SparkSession object is already initialized for you.\n",
    "# The following variable contains the path to your file on your IBM Cloud Object Storage.\n",
    "df = spark.read.parquet(cos.url('a0_m3_exercice2.ipynb - Copy.txt', 'advanceddatascience-donotdelete-pr-wi2dpsm1nwyabr'))\n"
   ]
  },
  {
   "cell_type": "code",
   "execution_count": 6,
   "metadata": {},
   "outputs": [],
   "source": [
    "from pyspark.ml.feature import VectorAssembler \n",
    "vectorAssembler = VectorAssembler (inputCols = ['x','y','z'], outputCol='features')"
   ]
  },
  {
   "cell_type": "code",
   "execution_count": 7,
   "metadata": {},
   "outputs": [],
   "source": [
    "from pyspark.ml.clustering import KMeans"
   ]
  },
  {
   "cell_type": "markdown",
   "metadata": {},
   "source": [
    "### So now, we create a K-Means clustering algorithm object. Of course, you have to call the constructor and then we set K. In this case, we specify 13 because you know that a dataset has 13 different movement patterns."
   ]
  },
  {
   "cell_type": "code",
   "execution_count": null,
   "metadata": {},
   "outputs": [],
   "source": [
    "kmeans=KMeans().setK(13).setSeed(1)"
   ]
  },
  {
   "cell_type": "code",
   "execution_count": 8,
   "metadata": {},
   "outputs": [],
   "source": [
    "from pyspark.ml import Pipeline "
   ]
  },
  {
   "cell_type": "markdown",
   "metadata": {},
   "source": [
    "### Again, we create a pipeline, where vectorAssembler and KMeans are components, and again it's the same thing. It's pipeline.fit with our data. So in this case, no need for splitting, training and test."
   ]
  },
  {
   "cell_type": "code",
   "execution_count": null,
   "metadata": {},
   "outputs": [],
   "source": [
    "pipeline=Pipeline(stages=[vectorAssembler,kmeans])"
   ]
  },
  {
   "cell_type": "code",
   "execution_count": null,
   "metadata": {},
   "outputs": [],
   "source": [
    "model=pipeline.fit (df)"
   ]
  },
  {
   "cell_type": "markdown",
   "metadata": {},
   "source": [
    "### Now, we want to compute how good we are doing and we're using the within set sum of squared errors measure. That's basically a measure where you compute the distance of each point to its nearest cluster centroid and you sum those up and you square it, and then you get a measure of how good your points are assigned to cluster centroids.\n",
    "### Again, since DataFrame doesn't contain our feature vector, we have to call vectorAssembler.transform here and parse it to the compute cost function. We obtain a quite high value and of course there's room for improvement, and you actually will learn how to improve this in the programming assignment"
   ]
  },
  {
   "cell_type": "code",
   "execution_count": null,
   "metadata": {},
   "outputs": [],
   "source": [
    "wssse = model.stages[1].computeCost(vectorAssebler.transform(df)) "
   ]
  },
  {
   "cell_type": "markdown",
   "metadata": {},
   "source": [
    "### Answer 14222332.47896.."
   ]
  },
  {
   "cell_type": "markdown",
   "metadata": {},
   "source": [
    "### Now, let's have a look if we only cluster with two classes. If we improve our score, that means we set K to two and we create a new DataFrame which contains only movement patterns from climb stairs and brush teeth, and we compute the whole thing again. We see that the score improves"
   ]
  },
  {
   "cell_type": "code",
   "execution_count": null,
   "metadata": {},
   "outputs": [],
   "source": [
    "df.createorReplaceTempView('df')"
   ]
  },
  {
   "cell_type": "code",
   "execution_count": null,
   "metadata": {},
   "outputs": [],
   "source": [
    "df=spark.sql(\"select * from df where class in ('Climb_stairs', 'Brush_Teeth')\") # Now the score improves"
   ]
  },
  {
   "cell_type": "markdown",
   "metadata": {},
   "source": [
    "## Quiz Clustering"
   ]
  },
  {
   "cell_type": "markdown",
   "metadata": {},
   "source": [
    "## Which of the following algorithms needs you to pre-specify the expexted number of clusters?\n",
    "### kmeans\n",
    "## Which algorithm let's you visually determine a good number of clusters based on it's output?\n",
    "### Hierarchical clustering"
   ]
  },
  {
   "cell_type": "markdown",
   "metadata": {},
   "source": [
    "# Principal Component Analysis PCA"
   ]
  },
  {
   "cell_type": "markdown",
   "metadata": {},
   "source": [
    "## Curse of Diemnsionality"
   ]
  },
  {
   "cell_type": "markdown",
   "metadata": {},
   "source": [
    "### The curse of dimensionality is a collective term. It has to do with various phenomena that emerge when dealing with multi-dimensional data.\n",
    "### o, let's take a very simple dataset. It has just one input attribute and a target attribute. And the purpose in this dataset is to classify my observations in one of two clauses, red or green\n",
    "### So, my input attribute is a number of observations here, I have X_1, X_2 and so on until X_n and in my case n is 20. I have 20 observations and X is in the interval of 0-20. Okay and for t, the target class for each X. I also have a target t_1, t_2 and so on until t_n and t is in let's say, red and green.\n",
    "### And I'd like to train a classifier that can give me the probability of let's say the target being of class g given X.\n",
    "### And a very basic way of doing this is to partition the input space into regions, compute the conditional probability for each region and then use these data to make predictions. \n",
    "###  I will partition the input space which is the interval from 0 to 20 into four regions. One here, one here, one here, one here. I will name them r_1, r_2, r_3 and r_4 and then I will compute the conditional probability for each of these regions. The region is comprised of x values on the horizontal axis and values lies according to measurement.\n",
    "### P(t=g/R1)=1/4, P(t=g/R1)=2/3, P(t=g/R3)=4/7, P(t=g/R4)=3/6,\n",
    "### his is a very simple, very easy way of computing probabilities and making predictions based on the input space. \n",
    "### The question is, what happens with this approach, if instead of a single input attribute in my dataset? Instead of a single input attribute here, I actually have two input attribute. Something like this. So, my dataset is no longer X_1, X_2, X_3 and so on. It's a vector of tuples so I have X_11, X_12, X_21, X_22 and so on until X_n1 X_n2. So, what happens? Well, I can try to do the same thing.\n",
    "###  I can plot the data, partition to space four by four, which will give me four by four, four partitions for each dimension will give me 16 regions. \n",
    "### ow that I have 16 regions, first of all, I have some regions with a single data point. So, I'm not entirely sure that I can actually trust the predictions from this region, because obviously I don't have enough data there. Another problem is that, I actually have some regions where I don't have any data at all. Like here, here, here and so on. And this kind of makes my classifier undefined for these regions. I don't actually know what to predict. \n",
    "### If the input data, the unseen data falls within a region where I don't actually have any data. So, this problem gets worse as you keep adding dimensions. \n",
    "### o, if we go into a dataset with three mentions and the same number of observations, we now have something like, if we get the data points, we have something like four by four by four. This would be 64 regions. So, it's even worse.\n",
    "### And you could say, \"Well, can we then increase N, can we increase the number of observations here and get better density.\"\n",
    "### And if you think about it, the density of my data in the one dimensional case where I had one input attribute. So, 1D let's say. In the 1D case, the density of my samples was something like 20 samples of the four regions equals five, about five observations per region on average. 1D = 20/4 = 5\n",
    "### 2D = 20/16 = 1.25, 3D=20/64=0.31\n",
    "### And you could say, \"Well, can we then increase N, can we increase the number of observations here and get better density.\"\n",
    "### Absolutely, yes we can. So, we can increase N, but let's see if I want to keep the same sampling density then I have to make proportional.\n",
    "### So, N_1/D where is the dimensionality it will give me basically the proportions. \n",
    "### So, what I can do is I can say, I have 20 observations in one dimensional dataset and I want to get the same number of density. So, how many observations? X that's why unknown, will be needed if I want to keep this in 3D space one of the three. And if I sold for X what I will get is that X will be 8000. So, if I want to keep the same sampling density is in the 1D case will increase the dimensions to three, I will have to increase my N to 8000. \n",
    "### (N)^1/D,  (20)^1/1 = (x)^1/3 .... x=8000 observations\n",
    "### o, you can see that adding dimensions also increases the number of observations that are needed to keep the sampling density. And this number grows very quickly. \n",
    "### So, to summarize. One aspect of the curse of dimensionality is the data becomes sparse we add dimensions. \n",
    "### The second problem is the distances lose meaning in higher dimensions, which means that, if you define some kind of a distance measure between your data points, if you have many dimensions and two data points are very distance in one of the dimensions, you just have a very tiny impact on the overall distance measure, because you are averaging essentially across many dimensions. So, distances tend of lose meaning. \n",
    "### And the curse of dimentionality is well recognized problem and there are different techniques for alleviating it. So, let's see what we can do.\n"
   ]
  },
  {
   "cell_type": "markdown",
   "metadata": {},
   "source": [
    "## Dimensionality Reduction"
   ]
  },
  {
   "cell_type": "markdown",
   "metadata": {},
   "source": [
    "### In order to combat the class dimensionality, people use dimensionality reduction\n",
    "### And again this is an umbrella term for various techniques. For example, feature selection.\n",
    "### nd the idea of feature selection is, if you have a dataset with many many features, you probably don't have to train your classifier using all of them, instead, what you can do is you can hand pick specific features that have special predictive power to give you a good prediction for the target that you build, instead of blindly using all features that are available. \n",
    "### Feature selection can be automated. People use things like information gained from information theory, like similarly to how a decision through classifier's work. People also use domain knowledge. So you might use experts that can tell you which attribute has sufficient predictive power for the problem you're trying to solve. \n",
    "### or example, let's say that you have a dataset with a different view course, so it's an ultimate multi-dataset and you have data for different cars or specific models and manufacturers and you have data like, I don't know, you have data like the weight of the vehicle, you have data like the color, you have data like the brake horsepower, you have data about the maximum RPM's, you have data about the fuel type, and so on. And let's say that you want to predict the MPG, the miles per a gallon. \n",
    "###  if you actually speak with an automotive engineer and they will probably tell you that the mpg is mostly influenced by maybe the weight of the vehicle, and I don't know, the fuel type, but it's definitely not influenced by, let's say the color of the vehicle, so you can remove this attribute from your input dataset when training the classifier\n",
    "### Another approach of tackling the class of dimensionality is to do feature reduction and the idea of feature reduction is that you have a number of features, let's say you have features like x_1, x_2, x_3, x_4, x_5, and you feed all these guys to something and then at the end you end up with a new set of features, maybe just x_1 and x_2, but these features retain most of the information that was already delivered by x_1, x_2, x_3, x_4, and x_5. So, the idea of feature reduction is use all the features from the dataset, right, and then generate a dataset with small number of dimensions while at the same time retaining as much information as possible from the original features. \n",
    "### And there are different techniques for feature reduction. Things like principle component analysis, linear discriminant analysis, here we have multi-dimensional scaling, but there're also non-linear methods like self organizing maps, autoencoders, and so on and so on.\n",
    "### we will focus on principal component analysis, as this is a really universal method. It's widely used and it is extremely useful. "
   ]
  },
  {
   "cell_type": "markdown",
   "metadata": {},
   "source": [
    "## Priccipal COmponent Analysis PCA"
   ]
  },
  {
   "cell_type": "markdown",
   "metadata": {},
   "source": [
    "### et's get another example. So say this is my data set, and this data set is a two dimensional data set. So, we have one dimension this way and another one this way. I want to reduce the dimensionality of my data set, so I want to go to single dimension. \n",
    "### What I can do is try to find a direction in this data set that preserves most of the variance. \n",
    "### So when I say variance, I mean the classical definition of variance. The expected value of the square deviation from the mean.\n",
    "### So the variance x will be the expected value of the deviation of the mean squared. \n",
    "### Let's say that I come up with this direction. I think this direction preserves most of the variance. This means that this direction preserves, because this is zero, zero preserves distance between my points like this, between these two, between these two, these two, these two, these two, and so on\n",
    "### So, if I take the distance between my points alongside this direction, it will be bigger then for example, if I get this direction and then get the distances like this.\n",
    "### So basically, you want to find the direction that preserves most of the variance, most of the distance between the individual points because when we're doing classification we are interested in how far apart the points are.\n",
    "### Once you have found this direction, in my case the direction is this one, the precise line that preserves most of the variance, then what you can do is you can project your points onto this line and use this line as your new coordinate system. \n",
    "### So, if I project my points onto this line then this line becomes my 1D attribute. \n",
    "### the same approach in the 3D dataset when you're working in three dimensional space. So, you will find the first direction preserves most of the variance in this case something like this. Then the next thing you do is you find a line that's perpendicular to this one that preserves most of what's left of the variance. \n",
    "### So, this will be a line probably like this one, perpendicular to this one. Okay, I didn't draw this very perpendicular, maybe something like this. Then keep going until you reach the number of dimensions. Then you'll find the line which is perpendicular to the second line and preserves most of the variance that's left unexplained in the data, so maybe it goes like this then. You'll end up with three new lines and again, you don't have to use all of them, you can just say, \n",
    "### Well, I will project all my data points on the blue line\" in which case you would have reduced your data say to one dimension where you can say actually, I will use both the first line and the second line. So, you'll project into the coordinates and then you have reduced your dimensionality to two\n",
    "### So, that's the idea of principle component analysis, you weld us the idea of dimensionality reduction using the direction of greatest variance.\n",
    "### ou find the first line that explains most of the variance then you keep looking for perpendicular lines to the previous one that explain what's left of the variance and you keep going until you reach the number of dimensions in the data set. Then you will select a number of lines which ideally will be less than the total dimensionality of your original data, you'll project the data and then you end up with a new data set with new features, the three things most of the information in the original data set with less lower dimensionality. \n",
    "###  would like to give you an example of how this technique works, and the important thing to mention is that these lines, these directions that preserve the variance are essentially given by the principal component analysis technique.\n"
   ]
  },
  {
   "cell_type": "markdown",
   "metadata": {},
   "source": [
    "## Priccipal COmponent Analysis (DEMO) PCA"
   ]
  },
  {
   "cell_type": "markdown",
   "metadata": {},
   "source": [
    "### So, this is a very high level overview of how we apply the PCA technique. We started by centering the dataset. So, essentially for each attribute in your dataset, you subtract the mean, and you zero center of the data, that's your first step. Then, we compute the covariance matrix, we find the eigenvectors, and eigenvalues of the covariance matrix,\n",
    "### these eigenvectors will become the principal components, these lines that actually give you the direction of greatest variance. The eigenvalues of the covariance matrix provide the explained variance. So, basically these eigenvalues tell you how much of the variance the individual component explains.\n",
    "### So, ideally once you have found the eigenvectors and eigenvalues, you will sort them by eigenvalues decreasingly. Then, you will pick the first eigenvector which will be your first principal component. \n",
    "### hat's the direction that preserves most of the variance, and then you keep going until you reach the number of required dimensions.\n",
    "### Once you have found your principal components, then you will use them to select new dimensions, and project the data, and end up with new dataset. "
   ]
  },
  {
   "cell_type": "markdown",
   "metadata": {},
   "source": [
    "###  I defined one function called corvaris which essentially generates correlated variables with some added Gaussian noise, and I use this quite often to generate artificial data that has some kind of relationship. So, I will use this function to generate some data, and then we will see how we can use PCA to reduce the dimensionality of the data."
   ]
  },
  {
   "cell_type": "code",
   "execution_count": 20,
   "metadata": {},
   "outputs": [],
   "source": [
    "from math import pi\n",
    "from math import sin\n",
    "\n",
    "import matplotlib.pyplot as plt\n",
    "\n",
    "import numpy as np\n",
    "import math\n",
    "\n",
    "def corr_vars(start=-10, stop=10, step=0.5, mu=0, sigma=3, func=lambda x:x ):\n",
    "    x=np.arange(start,stop,step)\n",
    "    \n",
    "    e=np.random.normal(mu, sigma, x.size)\n",
    "    \n",
    "    y=np.zeros(x.size)\n",
    "    \n",
    "    for ind in range (x.size):\n",
    "        y[ind]=func(x[ind]) + e[ind]\n",
    "        \n",
    "    return (x,y)\n",
    "   \n",
    "\n"
   ]
  },
  {
   "cell_type": "code",
   "execution_count": 21,
   "metadata": {},
   "outputs": [],
   "source": [
    "np.random.seed(100)\n",
    "\n",
    "#(x1,x2) = corr_vars(start=2, stop=4, step=0.2,  sigma=2, func=lambda x: 2*math.sin(x) + x*x )\n",
    "(x1,x2) = corr_vars(start=2, stop=4, step=0.2,  sigma=2, func=lambda x: 2*math.sin(x))\n",
    "\n",
    "A = np.column_stack((x1,x2))"
   ]
  },
  {
   "cell_type": "markdown",
   "metadata": {},
   "source": [
    "### I would generate some artificial data. The matrix I end up with looks like this.\n",
    "### If you look at the parameters of my function, so I'm generating data in the interval 2-4. That's my first attribute in this matrix A. then, the step is 0.2. So, I generate a range of data, and then I have a function that I use to link the second attribute to the first attribute, and in this case my function is two times sine of x sine of the first attribute. I also inject some random Gaussian noise with sigma of two. So, this is actually my data, and as we've just mentioned, what we'll do now is first center the data. So, if I plot the data as it is, that's my original dataset. You will notice that my zero, zero point is somewhere here. So, my data are clustered to the right of the zero, zero of the coordinate system. "
   ]
  },
  {
   "cell_type": "code",
   "execution_count": 22,
   "metadata": {},
   "outputs": [
    {
     "data": {
      "text/plain": [
       "array([[ 2.        , -1.68093609],\n",
       "       [ 2.2       ,  2.30235361],\n",
       "       [ 2.4       ,  3.65699797],\n",
       "       [ 2.6       ,  0.52613067],\n",
       "       [ 2.8       ,  2.63261787],\n",
       "       [ 3.        ,  1.3106777 ],\n",
       "       [ 3.2       ,  0.32561105],\n",
       "       [ 3.4       , -2.65116887],\n",
       "       [ 3.6       , -1.26403255],\n",
       "       [ 3.8       , -0.71371289]])"
      ]
     },
     "execution_count": 22,
     "metadata": {},
     "output_type": "execute_result"
    }
   ],
   "source": [
    "A"
   ]
  },
  {
   "cell_type": "code",
   "execution_count": 23,
   "metadata": {},
   "outputs": [
    {
     "data": {
      "text/plain": [
       "(-4, 4)"
      ]
     },
     "execution_count": 23,
     "metadata": {},
     "output_type": "execute_result"
    },
    {
     "data": {
      "image/png": "[encoded data removed]",
      "text/plain": [
       "<matplotlib.figure.Figure at 0x7fc14e41dd10>"
      ]
     },
     "metadata": {},
     "output_type": "display_data"
    }
   ],
   "source": [
    "f,ax=plt.subplots(figsize=(10,10))\n",
    "ax.scatter (A[:,0], A[:,1])\n",
    "ax.set_title(\"original data\")\n",
    "ax.set_aspect (\"equal\")\n",
    "ax.grid(True)\n",
    "\n",
    "plt.xlim([-5,5])\n",
    "plt.ylim ([-4,4])"
   ]
  },
  {
   "cell_type": "code",
   "execution_count": 24,
   "metadata": {},
   "outputs": [],
   "source": [
    "A=(A-np.mean(A,axis=0))"
   ]
  },
  {
   "cell_type": "code",
   "execution_count": 25,
   "metadata": {},
   "outputs": [
    {
     "data": {
      "text/plain": [
       "array([[-0.9       , -2.12538994],\n",
       "       [-0.7       ,  1.85789977],\n",
       "       [-0.5       ,  3.21254412],\n",
       "       [-0.3       ,  0.08167682],\n",
       "       [-0.1       ,  2.18816403],\n",
       "       [ 0.1       ,  0.86622385],\n",
       "       [ 0.3       , -0.1188428 ],\n",
       "       [ 0.5       , -3.09562271],\n",
       "       [ 0.7       , -1.7084864 ],\n",
       "       [ 0.9       , -1.15816674]])"
      ]
     },
     "execution_count": 25,
     "metadata": {},
     "output_type": "execute_result"
    }
   ],
   "source": [
    "A"
   ]
  },
  {
   "cell_type": "code",
   "execution_count": 26,
   "metadata": {},
   "outputs": [
    {
     "data": {
      "text/plain": [
       "(-4, 4)"
      ]
     },
     "execution_count": 26,
     "metadata": {},
     "output_type": "execute_result"
    },
    {
     "data": {
      "image/png": "[encoded data removed]",
      "text/plain": [
       "<matplotlib.figure.Figure at 0x7fc123aeaed0>"
      ]
     },
     "metadata": {},
     "output_type": "display_data"
    }
   ],
   "source": [
    "f,ax=plt.subplots(figsize=(10,10))\n",
    "ax.scatter (A[:,0], A[:,1])\n",
    "ax.set_title(\"original data\")\n",
    "ax.set_aspect (\"equal\")\n",
    "ax.grid(True)\n",
    "\n",
    "plt.xlim([-5,5])\n",
    "plt.ylim ([-4,4])"
   ]
  },
  {
   "cell_type": "markdown",
   "metadata": {},
   "source": [
    "### What I will do next is I will just subtract the mean from each attribute. If you look at the dataset now, you will see that they are centered around zero. If I plot them again, you'll see that I keep essentially the same shape of the data. It's just that we have transposed the data, we moved it to the zero, zero point in the coordinate system, and that's important for PCA to work properly. "
   ]
  },
  {
   "cell_type": "markdown",
   "metadata": {},
   "source": [
    "### o, not only have my data centered, I will use a function from Numphy to compute the eigenvectors, and eigenvalues."
   ]
  },
  {
   "cell_type": "code",
   "execution_count": 27,
   "metadata": {},
   "outputs": [],
   "source": [
    "evecs, eigenvalues, V=np.linalg.svd(A.T,full_matrices=False)"
   ]
  },
  {
   "cell_type": "markdown",
   "metadata": {},
   "source": [
    "### f I look at the eigenvectors, I get two vectors because the dimensionality of my data is two, I end up having two vectors. "
   ]
  },
  {
   "cell_type": "code",
   "execution_count": 28,
   "metadata": {},
   "outputs": [
    {
     "data": {
      "text/plain": [
       "array([[-0.14027773,  0.9901122 ],\n",
       "       [ 0.9901122 ,  0.14027773]])"
      ]
     },
     "execution_count": 28,
     "metadata": {},
     "output_type": "execute_result"
    }
   ],
   "source": [
    "evecs"
   ]
  },
  {
   "cell_type": "markdown",
   "metadata": {},
   "source": [
    "### the eigenvalues, if I look at the eigenvalues are 6.1 and 1.6. So, my first vector explains most of the variants that the eigenvalue for this vector, and the second vector explains what's remaining of the variance. What I can do now is I can generate some data using the slope of my first vector, and plot this"
   ]
  },
  {
   "cell_type": "code",
   "execution_count": 29,
   "metadata": {},
   "outputs": [
    {
     "data": {
      "text/plain": [
       "array([ 6.19647908,  1.61106079])"
      ]
     },
     "execution_count": 29,
     "metadata": {},
     "output_type": "execute_result"
    }
   ],
   "source": [
    "eigenvalues"
   ]
  },
  {
   "cell_type": "code",
   "execution_count": 43,
   "metadata": {},
   "outputs": [],
   "source": [
    "x=[]\n",
    "y=[]\n",
    "\n",
    "for i in range(-4,4):\n",
    "    x.append(i)\n",
    "    y.append(evecs[1,0] * i/evecs[0,0])"
   ]
  },
  {
   "cell_type": "markdown",
   "metadata": {},
   "source": [
    "### So, you can see the direction of the variance in the dataset, and that's exactly this."
   ]
  },
  {
   "cell_type": "code",
   "execution_count": 44,
   "metadata": {},
   "outputs": [
    {
     "data": {
      "text/plain": [
       "[<matplotlib.lines.Line2D at 0x7fc0e4468050>]"
      ]
     },
     "execution_count": 44,
     "metadata": {},
     "output_type": "execute_result"
    },
    {
     "data": {
      "image/png": "[encoded data removed]",
      "text/plain": [
       "<matplotlib.figure.Figure at 0x7fc0e4559e90>"
      ]
     },
     "metadata": {},
     "output_type": "display_data"
    }
   ],
   "source": [
    "f,ax=plt.subplots(figsize=(10,10))\n",
    "ax.scatter (A[:,0], A[:,1])\n",
    "ax.set_title(\"original data\")\n",
    "ax.set_aspect (\"equal\")\n",
    "ax.grid(True)\n",
    "\n",
    "plt.xlim([-5,5])\n",
    "plt.ylim ([-4,4])\n",
    "\n",
    "ax.plot(x,y, linestyle='-')"
   ]
  },
  {
   "cell_type": "code",
   "execution_count": 45,
   "metadata": {},
   "outputs": [
    {
     "ename": "LinAlgError",
     "evalue": "1-dimensional array given. Array must be at least two-dimensional",
     "output_type": "error",
     "traceback": [
      "\u001b[0;31m\u001b[0m",
      "\u001b[0;31mLinAlgError\u001b[0mTraceback (most recent call last)",
      "\u001b[0;32m<ipython-input-45-d6819a3a7c51>\u001b[0m in \u001b[0;36m<module>\u001b[0;34m()\u001b[0m\n\u001b[1;32m     21\u001b[0m     \u001b[0mb\u001b[0m\u001b[0;34m=\u001b[0m\u001b[0;34m-\u001b[0m\u001b[0mnp\u001b[0m\u001b[0;34m.\u001b[0m\u001b[0marray\u001b[0m\u001b[0;34m(\u001b[0m\u001b[0;34m[\u001b[0m\u001b[0;34m-\u001b[0m\u001b[0mq\u001b[0m\u001b[0;34m[\u001b[0m\u001b[0;36m0\u001b[0m\u001b[0;34m]\u001b[0m\u001b[0;34m*\u001b[0m\u001b[0;34m(\u001b[0m\u001b[0mp1\u001b[0m\u001b[0;34m[\u001b[0m\u001b[0;36m0\u001b[0m\u001b[0;34m]\u001b[0m\u001b[0;34m-\u001b[0m\u001b[0mp0\u001b[0m\u001b[0;34m[\u001b[0m\u001b[0;36m0\u001b[0m\u001b[0;34m]\u001b[0m\u001b[0;34m)\u001b[0m \u001b[0;34m-\u001b[0m \u001b[0mq\u001b[0m\u001b[0;34m[\u001b[0m\u001b[0;36m1\u001b[0m\u001b[0;34m]\u001b[0m \u001b[0;34m*\u001b[0m \u001b[0;34m(\u001b[0m\u001b[0mp1\u001b[0m\u001b[0;34m[\u001b[0m\u001b[0;36m1\u001b[0m\u001b[0;34m]\u001b[0m\u001b[0;34m-\u001b[0m\u001b[0mp0\u001b[0m\u001b[0;34m[\u001b[0m\u001b[0;36m1\u001b[0m\u001b[0;34m]\u001b[0m\u001b[0;34m)\u001b[0m \u001b[0;34m-\u001b[0m\u001b[0mp0\u001b[0m\u001b[0;34m[\u001b[0m\u001b[0;36m1\u001b[0m\u001b[0;34m]\u001b[0m\u001b[0;34m*\u001b[0m\u001b[0;34m(\u001b[0m\u001b[0mp1\u001b[0m\u001b[0;34m[\u001b[0m\u001b[0;36m0\u001b[0m\u001b[0;34m]\u001b[0m\u001b[0;34m-\u001b[0m\u001b[0mp0\u001b[0m\u001b[0;34m[\u001b[0m\u001b[0;36m0\u001b[0m\u001b[0;34m]\u001b[0m\u001b[0;34m)\u001b[0m\u001b[0;34m+\u001b[0m\u001b[0mp0\u001b[0m\u001b[0;34m[\u001b[0m\u001b[0;36m0\u001b[0m\u001b[0;34m]\u001b[0m\u001b[0;34m*\u001b[0m\u001b[0;34m(\u001b[0m\u001b[0mp1\u001b[0m\u001b[0;34m[\u001b[0m\u001b[0;36m1\u001b[0m\u001b[0;34m]\u001b[0m\u001b[0;34m-\u001b[0m\u001b[0mp0\u001b[0m\u001b[0;34m[\u001b[0m\u001b[0;36m1\u001b[0m\u001b[0;34m]\u001b[0m\u001b[0;34m)\u001b[0m\u001b[0;34m]\u001b[0m\u001b[0;34m)\u001b[0m\u001b[0;34m\u001b[0m\u001b[0m\n\u001b[1;32m     22\u001b[0m \u001b[0;34m\u001b[0m\u001b[0m\n\u001b[0;32m---> 23\u001b[0;31m     \u001b[0mproj\u001b[0m\u001b[0;34m=\u001b[0m\u001b[0mnp\u001b[0m\u001b[0;34m.\u001b[0m\u001b[0mlinalg\u001b[0m\u001b[0;34m.\u001b[0m\u001b[0msolve\u001b[0m\u001b[0;34m(\u001b[0m\u001b[0ma\u001b[0m\u001b[0;34m,\u001b[0m\u001b[0mb\u001b[0m\u001b[0;34m)\u001b[0m\u001b[0;34m\u001b[0m\u001b[0m\n\u001b[0m\u001b[1;32m     24\u001b[0m \u001b[0;34m\u001b[0m\u001b[0m\n\u001b[1;32m     25\u001b[0m     \u001b[0max\u001b[0m\u001b[0;34m.\u001b[0m\u001b[0mplot\u001b[0m\u001b[0;34m(\u001b[0m\u001b[0mproj\u001b[0m\u001b[0;34m[\u001b[0m\u001b[0;36m0\u001b[0m\u001b[0;34m]\u001b[0m\u001b[0;34m,\u001b[0m\u001b[0mproj\u001b[0m\u001b[0;34m[\u001b[0m\u001b[0;36m1\u001b[0m\u001b[0;34m]\u001b[0m\u001b[0;34m,\u001b[0m \u001b[0;34m'bo'\u001b[0m\u001b[0;34m,\u001b[0m \u001b[0mmarkersize\u001b[0m\u001b[0;34m=\u001b[0m\u001b[0;36m4\u001b[0m\u001b[0;34m,\u001b[0m \u001b[0mcolor\u001b[0m\u001b[0;34m=\u001b[0m\u001b[0;34m'red'\u001b[0m\u001b[0;34m)\u001b[0m\u001b[0;34m\u001b[0m\u001b[0m\n",
      "\u001b[0;32m/usr/local/src/bluemix_jupyter_bundle.v105/notebook/lib/python2.7/site-packages/numpy/linalg/linalg.pyc\u001b[0m in \u001b[0;36msolve\u001b[0;34m(a, b)\u001b[0m\n\u001b[1;32m    359\u001b[0m     \"\"\"\n\u001b[1;32m    360\u001b[0m     \u001b[0ma\u001b[0m\u001b[0;34m,\u001b[0m \u001b[0m_\u001b[0m \u001b[0;34m=\u001b[0m \u001b[0m_makearray\u001b[0m\u001b[0;34m(\u001b[0m\u001b[0ma\u001b[0m\u001b[0;34m)\u001b[0m\u001b[0;34m\u001b[0m\u001b[0m\n\u001b[0;32m--> 361\u001b[0;31m     \u001b[0m_assertRankAtLeast2\u001b[0m\u001b[0;34m(\u001b[0m\u001b[0ma\u001b[0m\u001b[0;34m)\u001b[0m\u001b[0;34m\u001b[0m\u001b[0m\n\u001b[0m\u001b[1;32m    362\u001b[0m     \u001b[0m_assertNdSquareness\u001b[0m\u001b[0;34m(\u001b[0m\u001b[0ma\u001b[0m\u001b[0;34m)\u001b[0m\u001b[0;34m\u001b[0m\u001b[0m\n\u001b[1;32m    363\u001b[0m     \u001b[0mb\u001b[0m\u001b[0;34m,\u001b[0m \u001b[0mwrap\u001b[0m \u001b[0;34m=\u001b[0m \u001b[0m_makearray\u001b[0m\u001b[0;34m(\u001b[0m\u001b[0mb\u001b[0m\u001b[0;34m)\u001b[0m\u001b[0;34m\u001b[0m\u001b[0m\n",
      "\u001b[0;32m/usr/local/src/bluemix_jupyter_bundle.v105/notebook/lib/python2.7/site-packages/numpy/linalg/linalg.pyc\u001b[0m in \u001b[0;36m_assertRankAtLeast2\u001b[0;34m(*arrays)\u001b[0m\n\u001b[1;32m    200\u001b[0m         \u001b[0;32mif\u001b[0m \u001b[0ma\u001b[0m\u001b[0;34m.\u001b[0m\u001b[0mndim\u001b[0m \u001b[0;34m<\u001b[0m \u001b[0;36m2\u001b[0m\u001b[0;34m:\u001b[0m\u001b[0;34m\u001b[0m\u001b[0m\n\u001b[1;32m    201\u001b[0m             raise LinAlgError('%d-dimensional array given. Array must be '\n\u001b[0;32m--> 202\u001b[0;31m                     'at least two-dimensional' % a.ndim)\n\u001b[0m\u001b[1;32m    203\u001b[0m \u001b[0;34m\u001b[0m\u001b[0m\n\u001b[1;32m    204\u001b[0m \u001b[0;32mdef\u001b[0m \u001b[0m_assertSquareness\u001b[0m\u001b[0;34m(\u001b[0m\u001b[0;34m*\u001b[0m\u001b[0marrays\u001b[0m\u001b[0;34m)\u001b[0m\u001b[0;34m:\u001b[0m\u001b[0;34m\u001b[0m\u001b[0m\n",
      "\u001b[0;31mLinAlgError\u001b[0m: 1-dimensional array given. Array must be at least two-dimensional"
     ]
    },
    {
     "data": {
      "image/png": "[encoded data removed]",
      "text/plain": [
       "<matplotlib.figure.Figure at 0x7fc0e409f850>"
      ]
     },
     "metadata": {},
     "output_type": "display_data"
    }
   ],
   "source": [
    "f,ax=plt.subplots(figsize=(10,10))\n",
    "ax.scatter (A[:,0], A[:,1])\n",
    "ax.set_title(\"original data\")\n",
    "ax.set_aspect (\"equal\")\n",
    "ax.grid(True)\n",
    "\n",
    "plt.xlim([-5,5])\n",
    "plt.ylim ([-4,4])\n",
    "\n",
    "ax.plot(x,y, linestyle='-')\n",
    "\n",
    "p0=[x[0],y[0]]\n",
    "p1=[x[len(x)-1], y[len(y)-1]]\n",
    "\n",
    "a=np.array([[p1[0]-p0[0],p1[1]-p1[1]],\n",
    "          [p0[1]-p1[1]], p1[1]-p0[0]])\n",
    "\n",
    "for i in range (0, len(A)):\n",
    "    q=A[i]\n",
    "    \n",
    "    b=-np.array([-q[0]*(p1[0]-p0[0]) - q[1] * (p1[1]-p0[1]) -p0[1]*(p1[0]-p0[0])+p0[0]*(p1[1]-p0[1])])\n",
    "    \n",
    "    proj=np.linalg.solve(a,b)\n",
    "    \n",
    "    ax.plot(proj[0],proj[1], 'bo', markersize=4, color='red')\n",
    "    ax.plot((q[0],proj[0]),(q[1],proj[1]), linestyle='--', color='red')                  "
   ]
  },
  {
   "cell_type": "markdown",
   "metadata": {},
   "source": [
    "### If you are interested in the second vector, we can actually also plot the second vector, and see what direction the second vector gives us. As expected, it's 90 degrees to the first principal component. So, this direction explains what's left of the variance. "
   ]
  },
  {
   "cell_type": "code",
   "execution_count": 33,
   "metadata": {},
   "outputs": [],
   "source": [
    "x=[]\n",
    "y=[]\n",
    "\n",
    "for i in range(-4,4):\n",
    "    x.append(i)\n",
    "    y.append(evecs[1,1] * i/evecs[0,1])"
   ]
  },
  {
   "cell_type": "code",
   "execution_count": 34,
   "metadata": {},
   "outputs": [
    {
     "data": {
      "text/plain": [
       "[<matplotlib.lines.Line2D at 0x7fc0e4eb7d50>]"
      ]
     },
     "execution_count": 34,
     "metadata": {},
     "output_type": "execute_result"
    },
    {
     "data": {
      "image/png": "[encoded data removed]",
      "text/plain": [
       "<matplotlib.figure.Figure at 0x7fc123aea390>"
      ]
     },
     "metadata": {},
     "output_type": "display_data"
    }
   ],
   "source": [
    "f,ax=plt.subplots(figsize=(10,10))\n",
    "ax.scatter (A[:,0], A[:,1])\n",
    "ax.set_title(\"original data\")\n",
    "ax.set_aspect (\"equal\")\n",
    "ax.grid(True)\n",
    "\n",
    "plt.xlim([-5,5])\n",
    "plt.ylim ([-4,4])\n",
    "\n",
    "ax.plot(x,y, linestyle='-')"
   ]
  },
  {
   "cell_type": "markdown",
   "metadata": {},
   "source": [
    "### The final thing we can do is actually using the first principal component to project our datapoints. I'm using the second component, but yeah, you get the idea. If I use the second component, I'll project my datapoints here. If I use the first one, I'll project them alongside the long axis that preserve most of the variance. So, that's the idea. That's how we use PCA out of the box using Numphy. Now, let's get back to the definition, and look into details, and see if we can actually implement PCA manually."
   ]
  },
  {
   "cell_type": "code",
   "execution_count": 42,
   "metadata": {},
   "outputs": [
    {
     "ename": "LinAlgError",
     "evalue": "1-dimensional array given. Array must be at least two-dimensional",
     "output_type": "error",
     "traceback": [
      "\u001b[0;31m\u001b[0m",
      "\u001b[0;31mLinAlgError\u001b[0mTraceback (most recent call last)",
      "\u001b[0;32m<ipython-input-42-d6819a3a7c51>\u001b[0m in \u001b[0;36m<module>\u001b[0;34m()\u001b[0m\n\u001b[1;32m     21\u001b[0m     \u001b[0mb\u001b[0m\u001b[0;34m=\u001b[0m\u001b[0;34m-\u001b[0m\u001b[0mnp\u001b[0m\u001b[0;34m.\u001b[0m\u001b[0marray\u001b[0m\u001b[0;34m(\u001b[0m\u001b[0;34m[\u001b[0m\u001b[0;34m-\u001b[0m\u001b[0mq\u001b[0m\u001b[0;34m[\u001b[0m\u001b[0;36m0\u001b[0m\u001b[0;34m]\u001b[0m\u001b[0;34m*\u001b[0m\u001b[0;34m(\u001b[0m\u001b[0mp1\u001b[0m\u001b[0;34m[\u001b[0m\u001b[0;36m0\u001b[0m\u001b[0;34m]\u001b[0m\u001b[0;34m-\u001b[0m\u001b[0mp0\u001b[0m\u001b[0;34m[\u001b[0m\u001b[0;36m0\u001b[0m\u001b[0;34m]\u001b[0m\u001b[0;34m)\u001b[0m \u001b[0;34m-\u001b[0m \u001b[0mq\u001b[0m\u001b[0;34m[\u001b[0m\u001b[0;36m1\u001b[0m\u001b[0;34m]\u001b[0m \u001b[0;34m*\u001b[0m \u001b[0;34m(\u001b[0m\u001b[0mp1\u001b[0m\u001b[0;34m[\u001b[0m\u001b[0;36m1\u001b[0m\u001b[0;34m]\u001b[0m\u001b[0;34m-\u001b[0m\u001b[0mp0\u001b[0m\u001b[0;34m[\u001b[0m\u001b[0;36m1\u001b[0m\u001b[0;34m]\u001b[0m\u001b[0;34m)\u001b[0m \u001b[0;34m-\u001b[0m\u001b[0mp0\u001b[0m\u001b[0;34m[\u001b[0m\u001b[0;36m1\u001b[0m\u001b[0;34m]\u001b[0m\u001b[0;34m*\u001b[0m\u001b[0;34m(\u001b[0m\u001b[0mp1\u001b[0m\u001b[0;34m[\u001b[0m\u001b[0;36m0\u001b[0m\u001b[0;34m]\u001b[0m\u001b[0;34m-\u001b[0m\u001b[0mp0\u001b[0m\u001b[0;34m[\u001b[0m\u001b[0;36m0\u001b[0m\u001b[0;34m]\u001b[0m\u001b[0;34m)\u001b[0m\u001b[0;34m+\u001b[0m\u001b[0mp0\u001b[0m\u001b[0;34m[\u001b[0m\u001b[0;36m0\u001b[0m\u001b[0;34m]\u001b[0m\u001b[0;34m*\u001b[0m\u001b[0;34m(\u001b[0m\u001b[0mp1\u001b[0m\u001b[0;34m[\u001b[0m\u001b[0;36m1\u001b[0m\u001b[0;34m]\u001b[0m\u001b[0;34m-\u001b[0m\u001b[0mp0\u001b[0m\u001b[0;34m[\u001b[0m\u001b[0;36m1\u001b[0m\u001b[0;34m]\u001b[0m\u001b[0;34m)\u001b[0m\u001b[0;34m]\u001b[0m\u001b[0;34m)\u001b[0m\u001b[0;34m\u001b[0m\u001b[0m\n\u001b[1;32m     22\u001b[0m \u001b[0;34m\u001b[0m\u001b[0m\n\u001b[0;32m---> 23\u001b[0;31m     \u001b[0mproj\u001b[0m\u001b[0;34m=\u001b[0m\u001b[0mnp\u001b[0m\u001b[0;34m.\u001b[0m\u001b[0mlinalg\u001b[0m\u001b[0;34m.\u001b[0m\u001b[0msolve\u001b[0m\u001b[0;34m(\u001b[0m\u001b[0ma\u001b[0m\u001b[0;34m,\u001b[0m\u001b[0mb\u001b[0m\u001b[0;34m)\u001b[0m\u001b[0;34m\u001b[0m\u001b[0m\n\u001b[0m\u001b[1;32m     24\u001b[0m \u001b[0;34m\u001b[0m\u001b[0m\n\u001b[1;32m     25\u001b[0m     \u001b[0max\u001b[0m\u001b[0;34m.\u001b[0m\u001b[0mplot\u001b[0m\u001b[0;34m(\u001b[0m\u001b[0mproj\u001b[0m\u001b[0;34m[\u001b[0m\u001b[0;36m0\u001b[0m\u001b[0;34m]\u001b[0m\u001b[0;34m,\u001b[0m\u001b[0mproj\u001b[0m\u001b[0;34m[\u001b[0m\u001b[0;36m1\u001b[0m\u001b[0;34m]\u001b[0m\u001b[0;34m,\u001b[0m \u001b[0;34m'bo'\u001b[0m\u001b[0;34m,\u001b[0m \u001b[0mmarkersize\u001b[0m\u001b[0;34m=\u001b[0m\u001b[0;36m4\u001b[0m\u001b[0;34m,\u001b[0m \u001b[0mcolor\u001b[0m\u001b[0;34m=\u001b[0m\u001b[0;34m'red'\u001b[0m\u001b[0;34m)\u001b[0m\u001b[0;34m\u001b[0m\u001b[0m\n",
      "\u001b[0;32m/usr/local/src/bluemix_jupyter_bundle.v105/notebook/lib/python2.7/site-packages/numpy/linalg/linalg.pyc\u001b[0m in \u001b[0;36msolve\u001b[0;34m(a, b)\u001b[0m\n\u001b[1;32m    359\u001b[0m     \"\"\"\n\u001b[1;32m    360\u001b[0m     \u001b[0ma\u001b[0m\u001b[0;34m,\u001b[0m \u001b[0m_\u001b[0m \u001b[0;34m=\u001b[0m \u001b[0m_makearray\u001b[0m\u001b[0;34m(\u001b[0m\u001b[0ma\u001b[0m\u001b[0;34m)\u001b[0m\u001b[0;34m\u001b[0m\u001b[0m\n\u001b[0;32m--> 361\u001b[0;31m     \u001b[0m_assertRankAtLeast2\u001b[0m\u001b[0;34m(\u001b[0m\u001b[0ma\u001b[0m\u001b[0;34m)\u001b[0m\u001b[0;34m\u001b[0m\u001b[0m\n\u001b[0m\u001b[1;32m    362\u001b[0m     \u001b[0m_assertNdSquareness\u001b[0m\u001b[0;34m(\u001b[0m\u001b[0ma\u001b[0m\u001b[0;34m)\u001b[0m\u001b[0;34m\u001b[0m\u001b[0m\n\u001b[1;32m    363\u001b[0m     \u001b[0mb\u001b[0m\u001b[0;34m,\u001b[0m \u001b[0mwrap\u001b[0m \u001b[0;34m=\u001b[0m \u001b[0m_makearray\u001b[0m\u001b[0;34m(\u001b[0m\u001b[0mb\u001b[0m\u001b[0;34m)\u001b[0m\u001b[0;34m\u001b[0m\u001b[0m\n",
      "\u001b[0;32m/usr/local/src/bluemix_jupyter_bundle.v105/notebook/lib/python2.7/site-packages/numpy/linalg/linalg.pyc\u001b[0m in \u001b[0;36m_assertRankAtLeast2\u001b[0;34m(*arrays)\u001b[0m\n\u001b[1;32m    200\u001b[0m         \u001b[0;32mif\u001b[0m \u001b[0ma\u001b[0m\u001b[0;34m.\u001b[0m\u001b[0mndim\u001b[0m \u001b[0;34m<\u001b[0m \u001b[0;36m2\u001b[0m\u001b[0;34m:\u001b[0m\u001b[0;34m\u001b[0m\u001b[0m\n\u001b[1;32m    201\u001b[0m             raise LinAlgError('%d-dimensional array given. Array must be '\n\u001b[0;32m--> 202\u001b[0;31m                     'at least two-dimensional' % a.ndim)\n\u001b[0m\u001b[1;32m    203\u001b[0m \u001b[0;34m\u001b[0m\u001b[0m\n\u001b[1;32m    204\u001b[0m \u001b[0;32mdef\u001b[0m \u001b[0m_assertSquareness\u001b[0m\u001b[0;34m(\u001b[0m\u001b[0;34m*\u001b[0m\u001b[0marrays\u001b[0m\u001b[0;34m)\u001b[0m\u001b[0;34m:\u001b[0m\u001b[0;34m\u001b[0m\u001b[0m\n",
      "\u001b[0;31mLinAlgError\u001b[0m: 1-dimensional array given. Array must be at least two-dimensional"
     ]
    },
    {
     "data": {
      "image/png": "[encoded data removed]",
      "text/plain": [
       "<matplotlib.figure.Figure at 0x7fc0e4235b50>"
      ]
     },
     "metadata": {},
     "output_type": "display_data"
    }
   ],
   "source": [
    "f,ax=plt.subplots(figsize=(10,10))\n",
    "ax.scatter (A[:,0], A[:,1])\n",
    "ax.set_title(\"original data\")\n",
    "ax.set_aspect (\"equal\")\n",
    "ax.grid(True)\n",
    "\n",
    "plt.xlim([-5,5])\n",
    "plt.ylim ([-4,4])\n",
    "\n",
    "ax.plot(x,y, linestyle='-')\n",
    "\n",
    "p0=[x[0],y[0]]\n",
    "p1=[x[len(x)-1], y[len(y)-1]]\n",
    "\n",
    "a=np.array([[p1[0]-p0[0],p1[1]-p1[1]],\n",
    "          [p0[1]-p1[1]], p1[1]-p0[0]])\n",
    "\n",
    "for i in range (0, len(A)):\n",
    "    q=A[i]\n",
    "    \n",
    "    b=-np.array([-q[0]*(p1[0]-p0[0]) - q[1] * (p1[1]-p0[1]) -p0[1]*(p1[0]-p0[0])+p0[0]*(p1[1]-p0[1])])\n",
    "    \n",
    "    proj=np.linalg.solve(a,b)\n",
    "    \n",
    "    ax.plot(proj[0],proj[1], 'bo', markersize=4, color='red')\n",
    "    ax.plot((q[0],proj[0]),(q[1],proj[1]), linestyle='--', color='red')                  "
   ]
  },
  {
   "cell_type": "markdown",
   "metadata": {},
   "source": [
    "## COvariance Matrix and direction of greatest variance"
   ]
  },
  {
   "cell_type": "markdown",
   "metadata": {},
   "source": [
    "### So, let's start with the covariance matrix. First of all, covariance, if you're not familiar with this measure, is actually a measure of how two variables vary together. So, if I have two attributes in my data set, let's say X1 and X2, all right, the covariance between these two attributes is given by the sum over i, goes from one to n, where n is the number of observations in my data set, of X1i, minus the mean of X1, times X2i, minus the mean of X2, and this is all divided by n minus one. Okay, and this is the covariance.\n",
    "### (x1-x1mean)(x2-x2mean)/n-1\n",
    "### The covariance matrix sigma, is a matrix, contains some values such that if I pick one of these guys, let's say this one, and he has an index i and j, this guy gives me the covariance between the ith and the jth component of a random vector, and when I say a random vector, I mean a random variable with multiple dimensions, right.\n",
    "### So, I can't compute the covariance matrix using this formula, but what I can do is actually if think about this, realize that first my data is centered, that was our first step in the PCA process. So, I don't actually need to subtract this, this has already been done as part of centering the data, and instead of also looping over the data, I can just vectorize this and I can say that my sigma, my covariance matrix is simply one over n minus one, times my data set X transpose X, where X is a matrix that contains these two guys, X1 and X2, and this is how I compute my covariance matrix. \n",
    "### Sigma=(1/n-1)(X^T*X)\n",
    "### Now this covariance matrix has one extremely useful property. If you take this matrix and multiply any vector by it, just a random vector, this vector will be turned towards the direction of greatest variance. This is a very useful property and I would like to do a quick demo to show you how this actually happens."
   ]
  },
  {
   "cell_type": "markdown",
   "metadata": {},
   "source": [
    "### I'm using the same method that I create to generate some data. This is this function corr vars, and I also define a second function in this second function called plot arrow is purely for visualization purposes, you'll see how I plot tiny arrows on my plots. "
   ]
  },
  {
   "cell_type": "code",
   "execution_count": 46,
   "metadata": {},
   "outputs": [],
   "source": [
    "from math import pi\n",
    "from math import sin\n",
    "\n",
    "import matplotlib.pyplot as plt\n",
    "\n",
    "import numpy as np\n",
    "import math\n",
    "\n",
    "def plot_arrow(ax,start,stop):\n",
    "    ax.annotate('',xytext=start, xy=stop,arrowprops=dict(facecolor='red', width=2.0))\n",
    "\n",
    "def corr_vars(start=-10, stop=10, step=0.5, mu=0, sigma=3, func=lambda x:x ):\n",
    "    x=np.arange(start,stop,step)\n",
    "    \n",
    "    e=np.random.normal(mu, sigma, x.size)\n",
    "    \n",
    "    y=np.zeros(x.size)\n",
    "    \n",
    "    for ind in range (x.size):\n",
    "        y[ind]=func(x[ind]) + e[ind]\n",
    "        \n",
    "    return (x,y)\n",
    "   \n",
    "\n"
   ]
  },
  {
   "cell_type": "markdown",
   "metadata": {},
   "source": [
    "### So, I will just define these two, and then I will generate some artificial data using again the same function two times the sign of X, plus some random gaussian noise, and I end up with my data like this. The data is again generated in this interval, two to four, step 0.2 and so on, and my first task is to center the data. "
   ]
  },
  {
   "cell_type": "code",
   "execution_count": 48,
   "metadata": {},
   "outputs": [
    {
     "data": {
      "text/plain": [
       "array([[ 2.        , -1.68093609],\n",
       "       [ 2.2       ,  2.30235361],\n",
       "       [ 2.4       ,  3.65699797],\n",
       "       [ 2.6       ,  0.52613067],\n",
       "       [ 2.8       ,  2.63261787],\n",
       "       [ 3.        ,  1.3106777 ],\n",
       "       [ 3.2       ,  0.32561105],\n",
       "       [ 3.4       , -2.65116887],\n",
       "       [ 3.6       , -1.26403255],\n",
       "       [ 3.8       , -0.71371289]])"
      ]
     },
     "execution_count": 48,
     "metadata": {},
     "output_type": "execute_result"
    }
   ],
   "source": [
    "np.random.seed(100)\n",
    "\n",
    "#(x1,x2) = corr_vars(start=2, stop=4, step=0.2,  sigma=2, func=lambda x: 2*math.sin(x) + x*x )\n",
    "(x1,x2) = corr_vars(start=2, stop=4, step=0.2,  sigma=2, func=lambda x: 2*math.sin(x))\n",
    "\n",
    "A = np.column_stack((x1,x2))\n",
    "\n",
    "Aorig = A\n",
    "\n",
    "A"
   ]
  },
  {
   "cell_type": "markdown",
   "metadata": {},
   "source": [
    "### ere you see that I take the matrix a, is my matrix with data, and I subtract the mean for each column from the matrix, and then I will plot this for you so you can actually see the original data and how I tend to center the data using these transformations,"
   ]
  },
  {
   "cell_type": "code",
   "execution_count": 53,
   "metadata": {},
   "outputs": [
    {
     "data": {
      "text/plain": [
       "(-4, 5)"
      ]
     },
     "execution_count": 53,
     "metadata": {},
     "output_type": "execute_result"
    },
    {
     "data": {
      "image/png": "[encoded data removed]",
      "text/plain": [
       "<matplotlib.figure.Figure at 0x7fc0e40eeb10>"
      ]
     },
     "metadata": {},
     "output_type": "display_data"
    }
   ],
   "source": [
    "A=(A-np.mean(A,axis=0))\n",
    "\n",
    "# plot the original matrix\n",
    "f,(ax1,ax2)=plt.subplots(1,2, sharey=True, figsize=(7,4))\n",
    "ax1.scatter (Aorig[:,0], Aorig[:,1])\n",
    "ax1.set_title(\"original data\")\n",
    "ax1.grid(True)\n",
    "\n",
    "# plot the centered data\n",
    "ax2.scatter (A[:,0], A[:,1])\n",
    "ax2.set_title(\"centered data\")\n",
    "ax2.grid(True)\n",
    "\n",
    "ax1.axhline(0, color='blue')\n",
    "ax1.axvline(0, color='blue')\n",
    "ax2.axhline(0, color='blue')\n",
    "ax2.axvline(0, color='blue')\n",
    "\n",
    "\n",
    "\n",
    "plt.xlim([-2,5])\n",
    "plt.ylim ([-4,5])\n",
    "\n"
   ]
  },
  {
   "cell_type": "markdown",
   "metadata": {},
   "source": [
    "### so, let me plot this. Okay. And here, you can see the original data set on the left hand side and these blue lines essentially represent the zero-sum on the two axis, and then after centering the data you see that we retain the distance as everything is the same, we just kind of shift the data to zero-zero, because we want this property so we can compute the covariance matrix easier."
   ]
  },
  {
   "cell_type": "markdown",
   "metadata": {},
   "source": [
    "### And then, my sigma, which I define here as S, is simply the A transposed times A, that's the dot product of A transposed in A, divided by the number of observations minus one, which is the shape of the Matrix A, the first dimension of the Matrix A minus one. And then I will print it for you. So, the covariance matrix is this one, right?"
   ]
  },
  {
   "cell_type": "code",
   "execution_count": 52,
   "metadata": {},
   "outputs": [
    {
     "name": "stdout",
     "output_type": "stream",
     "text": [
      "the covariance matrix is:\n",
      "[[ 0.36666667 -0.55248919]\n",
      " [-0.55248919  4.18798554]]\n"
     ]
    }
   ],
   "source": [
    "S=np.dot(A.T,A)/(A.shape[0]-1)\n",
    "\n",
    "print (\"the covariance matrix is:\")\n",
    "print (S)"
   ]
  },
  {
   "cell_type": "markdown",
   "metadata": {},
   "source": [
    "### And now, what I will do is I will pick a random vector, just absolutely random, this guy here with code and it's minus one and zero, and I will plot the vector together with the data. So, this is what the plot looks like, right? This is my data set and this vector with coordinates zero minus one from the zero-zero. The coding system points to the left."
   ]
  },
  {
   "cell_type": "code",
   "execution_count": 54,
   "metadata": {},
   "outputs": [
    {
     "name": "stdout",
     "output_type": "stream",
     "text": [
      "('vector slop', array([0]))\n"
     ]
    },
    {
     "data": {
      "text/plain": [
       "(-5, 5)"
      ]
     },
     "execution_count": 54,
     "metadata": {},
     "output_type": "execute_result"
    },
    {
     "data": {
      "image/png": "[encoded data removed]",
      "text/plain": [
       "<matplotlib.figure.Figure at 0x7fc0e458b610>"
      ]
     },
     "metadata": {},
     "output_type": "display_data"
    }
   ],
   "source": [
    "f,ax1=plt.subplots(1,1, sharey=True, figsize=(12,4))\n",
    "\n",
    "V=np.array([[-1],[0]])\n",
    "print (\"vector slop\", V[1]/V[0])\n",
    "\n",
    "ax1.scatter (A[:,0], A[:,1])\n",
    "ax1.set_title(\"Vector [-1,1] \")\n",
    "ax1.grid(True)\n",
    "\n",
    "ax1.plot([0, V[0]], [0, V[1]], c='r')\n",
    "plot_arrow (ax1,(0,0), (V[0],V[1]))\n",
    "\n",
    "plt.xlim ([-5,5])\n",
    "plt.ylim ([-5,5])"
   ]
  },
  {
   "cell_type": "markdown",
   "metadata": {},
   "source": [
    "### And now, let's multiply these vector by the covariance matrix and see what happens and plot it again. So, I will multiply it, and you see that this vector turns clockwise, right? It turns towards the direction of greatest variance which I already know for this data set, right? We already saw what the line is. And also, you see that that's the new slope of the vector, minus one point five or six and so on. So, the slope changes because the vector starts to turn, right? So, let's keep multiplying and see what happens."
   ]
  },
  {
   "cell_type": "code",
   "execution_count": 55,
   "metadata": {},
   "outputs": [
    {
     "name": "stdout",
     "output_type": "stream",
     "text": [
      "('vector slop', array([-1.50678871]))\n"
     ]
    },
    {
     "data": {
      "text/plain": [
       "(-5, 5)"
      ]
     },
     "execution_count": 55,
     "metadata": {},
     "output_type": "execute_result"
    },
    {
     "data": {
      "image/png": "[encoded data removed]",
      "text/plain": [
       "<matplotlib.figure.Figure at 0x7fc1212b1890>"
      ]
     },
     "metadata": {},
     "output_type": "display_data"
    }
   ],
   "source": [
    "f,ax1=plt.subplots(1,1, sharey=True, figsize=(12,4))\n",
    "\n",
    "\n",
    "V=np.dot (S,V)\n",
    "print (\"vector slop\", V[1]/V[0])\n",
    "\n",
    "ax1.scatter (A[:,0], A[:,1])\n",
    "ax1.set_title(\"Vector [-1,1] \")\n",
    "ax1.grid(True)\n",
    "\n",
    "ax1.plot([0, V[0]], [0, V[1]], c='r')\n",
    "plot_arrow (ax1,(0,0), (V[0],V[1]))\n",
    "\n",
    "plt.xlim ([-5,5])\n",
    "plt.ylim ([-5,5])"
   ]
  },
  {
   "cell_type": "markdown",
   "metadata": {},
   "source": [
    "###  will multiply the vector again by the covariance matrix, and you see that this vector turns some more and it also grows, right? I keep multiplying. Okay"
   ]
  },
  {
   "cell_type": "code",
   "execution_count": 56,
   "metadata": {},
   "outputs": [
    {
     "name": "stdout",
     "output_type": "stream",
     "text": [
      "('vector slop', array([-5.72313052]))\n"
     ]
    },
    {
     "data": {
      "text/plain": [
       "(-5, 5)"
      ]
     },
     "execution_count": 56,
     "metadata": {},
     "output_type": "execute_result"
    },
    {
     "data": {
      "image/png": "[encoded data removed]",
      "text/plain": [
       "<matplotlib.figure.Figure at 0x7fc0bc74c310>"
      ]
     },
     "metadata": {},
     "output_type": "display_data"
    }
   ],
   "source": [
    "f,ax1=plt.subplots(1,1, sharey=True, figsize=(12,4))\n",
    "\n",
    "\n",
    "V=np.dot (S,V)\n",
    "print (\"vector slop\", V[1]/V[0])\n",
    "\n",
    "ax1.scatter (A[:,0], A[:,1])\n",
    "ax1.set_title(\"Vector [-1,1] \")\n",
    "ax1.grid(True)\n",
    "\n",
    "ax1.plot([0, V[0]], [0, V[1]], c='r')\n",
    "plot_arrow (ax1,(0,0), (V[0],V[1]))\n",
    "\n",
    "plt.xlim ([-5,5])\n",
    "plt.ylim ([-5,5])"
   ]
  },
  {
   "cell_type": "markdown",
   "metadata": {},
   "source": [
    "### And now it already I think reached the direction of greatest variance, and it also grows, so, the arrow is not visible on the plot anymore. But you can take a note here of the slope which is minus 6.9, and if I can continue doing this, I won't plot the vector anymore because it doesn't make sense, the plot will be identical, it would just stay oriented in the same direction, it will just grow in magnitude."
   ]
  },
  {
   "cell_type": "code",
   "execution_count": 57,
   "metadata": {},
   "outputs": [
    {
     "name": "stdout",
     "output_type": "stream",
     "text": [
      "('vector slop', array([-6.94911232]))\n"
     ]
    },
    {
     "data": {
      "text/plain": [
       "(-5, 5)"
      ]
     },
     "execution_count": 57,
     "metadata": {},
     "output_type": "execute_result"
    },
    {
     "data": {
      "image/png": "[encoded data removed]",
      "text/plain": [
       "<matplotlib.figure.Figure at 0x7fc0e4402ad0>"
      ]
     },
     "metadata": {},
     "output_type": "display_data"
    }
   ],
   "source": [
    "f,ax1=plt.subplots(1,1, sharey=True, figsize=(12,4))\n",
    "\n",
    "\n",
    "V=np.dot (S,V)\n",
    "print (\"vector slop\", V[1]/V[0])\n",
    "\n",
    "ax1.scatter (A[:,0], A[:,1])\n",
    "ax1.set_title(\"Vector [-1,1] \")\n",
    "ax1.grid(True)\n",
    "\n",
    "ax1.plot([0, V[0]], [0, V[1]], c='r')\n",
    "plot_arrow (ax1,(0,0), (V[0],V[1]))\n",
    "\n",
    "plt.xlim ([-5,5])\n",
    "plt.ylim ([-5,5])"
   ]
  },
  {
   "cell_type": "markdown",
   "metadata": {},
   "source": [
    "### But if I keep doing this and I print the changes in the slope, you will see that the vector converges onto this slope minus seven point, or five-eight, and doesn't change much after if I keep multiplying because it has already reached the direction of greatest variance. "
   ]
  },
  {
   "cell_type": "code",
   "execution_count": 59,
   "metadata": {},
   "outputs": [
    {
     "name": "stdout",
     "output_type": "stream",
     "text": [
      "the slope of the vector converges to the direction of greatest variance:\n",
      " \n",
      "('vector slop', array([-7.05822814]))\n",
      "('vector slop', array([-7.05822814]))\n",
      "('vector slop', array([-7.05822814]))\n",
      "('vector slop', array([-7.05822814]))\n",
      "('vector slop', array([-7.05822814]))\n",
      "('vector slop', array([-7.05822814]))\n"
     ]
    }
   ],
   "source": [
    "print (\"the slope of the vector converges to the direction of greatest variance:\\n \")\n",
    "\n",
    "V=np.dot(S,V)\n",
    "print (\"vector slop\", V[1]/V[0])\n",
    "\n",
    "V=np.dot(S,V)\n",
    "print (\"vector slop\", V[1]/V[0])\n",
    "\n",
    "V=np.dot(S,V)\n",
    "print (\"vector slop\", V[1]/V[0])\n",
    "\n",
    "V=np.dot(S,V)\n",
    "print (\"vector slop\", V[1]/V[0])\n",
    "\n",
    "V=np.dot(S,V)\n",
    "print (\"vector slop\", V[1]/V[0])\n",
    "\n",
    "V=np.dot(S,V)\n",
    "print (\"vector slop\", V[1]/V[0])"
   ]
  },
  {
   "cell_type": "markdown",
   "metadata": {},
   "source": [
    "### So, this is something we could potentially use to find the principal component. Just grab a random vector, keep multiplying until it stops changing, this is your direction of greatest variance, right? That's your first principle component. "
   ]
  },
  {
   "cell_type": "markdown",
   "metadata": {},
   "source": [
    "### However, this is not very efficient, and there is an analytical solution that will give us all eigenvalues and eigenvectors by just solving some equations, so, that's the preferred method and that's what we will do."
   ]
  },
  {
   "cell_type": "markdown",
   "metadata": {},
   "source": [
    "## Eigen Values and Eigen Vectors"
   ]
  },
  {
   "cell_type": "markdown",
   "metadata": {},
   "source": [
    "### now that we have the covariance matrix, we need to know how to calculate the eigenvalues and the eigenvectors. \n",
    "### we first start by finding the eigenvalues. So, eigenvalues first, and we do this by solving this equation. We take the determinant of the covariance matrix and we subtract Lambda and I use Lambda to denote my eigenvalues, times I, where I used the identity matrix equal to 0. We solve this, and this will produce the Lambdas, the eigenvalues for us.\n",
    "### If you think about this, this operation here, Lambda times the identity matrix, so in our case we have a covariance matrix two by two, so we want to have the same dimensions for the identity matrix.\n",
    "### In our case, these two roots will be the first eigenvalue and the second eigenvalue,\n",
    "### There is a shortcut formula which I will use in the code and this formula is that Lambda is the trace of the covariance matrix, plus minus the square root of the trace squared of the Sigma K minus 4 times the determinant of Sigma\n",
    "### "
   ]
  },
  {
   "cell_type": "code",
   "execution_count": 62,
   "metadata": {},
   "outputs": [
    {
     "name": "stdout",
     "output_type": "stream",
     "text": [
      "The eigen values are:\n",
      "('l_1', 4.2662614472402387)\n",
      "('L_2', 0.28839076171131417)\n"
     ]
    }
   ],
   "source": [
    "# wikipedia/eigenvalue_algorithm\n",
    "# S is covariance Matrix\n",
    "l_1=(S.trace() + np.sqrt(pow(S.trace(),2) - 4*np.linalg.det(S)))/2\n",
    "\n",
    "l_2=(S.trace() - np.sqrt(pow(S.trace(),2) - 4*np.linalg.det(S)))/2\n",
    "\n",
    "print (\"The eigen values are:\")\n",
    "\n",
    "print (\"l_1\", l_1)\n",
    "print (\"L_2\", l_2)"
   ]
  },
  {
   "cell_type": "markdown",
   "metadata": {},
   "source": [
    "### we move on to finding the eigenvectors. We find the eigenvectors by solving this thing; covariance matrix times E equals Lambda times E, where E is a vector. So, essentially what I'm saying here is that I'm looking for a vector that when multiplied by the covariance matrix, remains the same and just changes in magnitude, that's this scalar here, Lambda, which is my eigen value\n",
    "### o, that's the intuition behind this equation, we want to find the vector that multiplied by the covariance matrix doesn't turn any more because it has already reached the direction of greater variance, right? It's only gross.\n",
    "### We can solve this using Lambda 1 and then using Lambda 2 and we will get to respectively the first and the second eigenvector, and then we will see which value is bigger for Lambda 1 or Lambda 2, which one explains most of the variance and that will be our first principle component and the second one will be our second principle component. \n",
    "### So, let's go back to Watson studio and see this implemented in code. Right, so here we are back in Watson studio, and instead of rotating a random vector to find the direction great is variance, what I will do now is just to use the formulas I've just shown you to analytically compute the eigenvalues and the eigenvectors. "
   ]
  },
  {
   "cell_type": "markdown",
   "metadata": {},
   "source": [
    "### What we can do now, is we can plot the regional data and then we plot the first eigenvector and then the first in the second eigenvectors together, and see what the direction of greater variance is. So let's do this, and here we see the original data, the first eigenvector and the second as we expect are perpendicular to the first one."
   ]
  },
  {
   "cell_type": "code",
   "execution_count": 63,
   "metadata": {},
   "outputs": [
    {
     "name": "stdout",
     "output_type": "stream",
     "text": [
      "The eigen vectors are:\n",
      "('E1', array([-0.14027773,  0.9901122 ]))\n",
      "('E2', array([-0.9901122 , -0.14027773]))\n"
     ]
    }
   ],
   "source": [
    "# eigen vectors\n",
    "\n",
    "# Cayley-Hamilton Theorem, Wikipedia\n",
    "# (A-lamda1I)(A-lambda2I)=(A-lambda2I)(A-lambda1I)=0 lambda is written due to sign not available\n",
    "\n",
    "A1 = S - l_1 * np.identity(2)\n",
    "A2= S - l_2 * np.identity (2)\n",
    "\n",
    "E1=A2[:,1]\n",
    "E2=A1[:,0]\n",
    "\n",
    "E1=E1/np.linalg.norm(E1)\n",
    "E2=E2/np.linalg.norm(E2)\n",
    "\n",
    "print(\"The eigen vectors are:\")\n",
    "print (\"E1\", E1)\n",
    "print (\"E2\", E2)\n"
   ]
  },
  {
   "cell_type": "code",
   "execution_count": 65,
   "metadata": {},
   "outputs": [
    {
     "data": {
      "text/plain": [
       "array([[-0.14027773, -0.9901122 ],\n",
       "       [ 0.9901122 , -0.14027773]])"
      ]
     },
     "execution_count": 65,
     "metadata": {},
     "output_type": "execute_result"
    }
   ],
   "source": [
    "E=np.column_stack((E1,E2))\n",
    "\n",
    "E"
   ]
  },
  {
   "cell_type": "code",
   "execution_count": 66,
   "metadata": {},
   "outputs": [
    {
     "name": "stdout",
     "output_type": "stream",
     "text": [
      "[ 0.28839076  4.26626145]\n",
      "[[-0.9901122  -0.14027773]\n",
      " [-0.14027773  0.9901122 ]]\n"
     ]
    }
   ],
   "source": [
    "evals, evecs = np.linalg.eigh(S)\n",
    "\n",
    "print (evals)\n",
    "print (evecs)"
   ]
  },
  {
   "cell_type": "code",
   "execution_count": 70,
   "metadata": {},
   "outputs": [
    {
     "data": {
      "text/plain": [
       "(-4, 5)"
      ]
     },
     "execution_count": 70,
     "metadata": {},
     "output_type": "execute_result"
    },
    {
     "data": {
      "image/png": "[encoded data removed]",
      "text/plain": [
       "<matplotlib.figure.Figure at 0x7fc0e420c990>"
      ]
     },
     "metadata": {},
     "output_type": "display_data"
    }
   ],
   "source": [
    "f,(ax1,ax2,ax3)=plt.subplots(1,3, sharey=True, figsize=(12,4))\n",
    "\n",
    "ax1.scatter (Aorig[:,0], Aorig[:,1])\n",
    "ax1.set_title(\"original data\")\n",
    "ax1.grid(True)\n",
    "ax1.set_aspect('equal')\n",
    "\n",
    "ax2.scatter (Aorig[:,0], Aorig[:,1])\n",
    "ax2.set_title(\"E1\")\n",
    "ax2.grid(True)\n",
    "plot_arrow (ax2,np.mean(Aorig,axis=0), np.mean(Aorig,axis=0) + np.dot(Aorig, E).std(axis=0).mean() * E1)\n",
    "ax2.set_aspect('equal')\n",
    "\n",
    "ax3.scatter (Aorig[:,0], Aorig[:,1])\n",
    "ax3.set_title(\"E1 & E2\")\n",
    "ax3.grid(True)\n",
    "plot_arrow (ax3,np.mean(Aorig,axis=0), np.mean(Aorig,axis=0) + np.dot(Aorig, E).std(axis=0).mean() * E1)\n",
    "plot_arrow (ax3,np.mean(Aorig,axis=0), np.mean(Aorig,axis=0) + np.dot(Aorig, E).std(axis=0).mean() * E2)\n",
    "ax3.set_aspect('equal')\n",
    "\n",
    "plt.xlim ([0,5])\n",
    "plt.ylim ([-4,5])"
   ]
  },
  {
   "cell_type": "markdown",
   "metadata": {},
   "source": [
    "## Projecting the Data"
   ]
  },
  {
   "cell_type": "markdown",
   "metadata": {},
   "source": [
    "### So, the final thing left to do is using principal components to actually project the original data and reduce it's dimensionality.\n",
    "### he way we do this is by say that I have 2D data, so I \n",
    "### have two input attributes X1, X2. And this is my data set, I have here X11, X12 that's my first observation. Then I have X21, X22 that's my second observation X31, X32, and so on. And because this input data set here is two dimensions, I will eventually end up with two principal components E1 and E2.\n",
    "### So, what I can do now is just grab the first observation take its transpose and multiply it by the first principal component. And this will give me what? This will be X11 times E1 plus X12 times E1, and this will be some number here right? And I can do the same for the second observation, just take the transpose multiplied by the first principal component and get another number. And I can do the same for the third observation and so on and so on.\n",
    "### nd at the end I will end up with a new data set that has just one attribute X1. And I have thus reduced the dimensions from two to one \n",
    "### if I have more dimensions in the original data set, if I have three, four, five dimensions then I will end up with two, three, four, five principal components. And I can repeat the same procedure not just for the first principal component but also the second, the third and I can end up with a data set that yes not just one but two or three attributes as long as the number of attributes in the new data set is lower than the dimensionality of the original data set. \n"
   ]
  },
  {
   "cell_type": "markdown",
   "metadata": {},
   "source": [
    "### if I want to project my data onto the new component, what I do is just take the dot product of the original data set and the first and the second principal component.\n",
    "### o, if I want to do dimensionality reduction I would just take F1 only and this will be essentially the transformation of my original data set that here's to input attribute into new data set that retains most of the variance and has only single input attribute. Or I can just retain both and get new projection of my data using the principal components and print it. "
   ]
  },
  {
   "cell_type": "code",
   "execution_count": 72,
   "metadata": {},
   "outputs": [
    {
     "data": {
      "text/plain": [
       "array([[-1.97812455,  1.18924584],\n",
       "       [ 1.93772363,  0.43245658],\n",
       "       [ 3.25091797,  0.04440771],\n",
       "       [ 0.12295254,  0.28557622],\n",
       "       [ 2.18055566, -0.20793946],\n",
       "       [ 0.84363103, -0.22052313],\n",
       "       [-0.15975102, -0.28036266],\n",
       "       [-3.13515266, -0.06080918],\n",
       "       [-1.78978762, -0.45341595],\n",
       "       [-1.27296497, -0.72863598]])"
      ]
     },
     "execution_count": 72,
     "metadata": {},
     "output_type": "execute_result"
    }
   ],
   "source": [
    "F1=np.dot(A,E1)\n",
    "F2=np.dot(A,E2)\n",
    "\n",
    "F=np.column_stack((F1,F2))\n",
    "\n",
    "F"
   ]
  },
  {
   "cell_type": "markdown",
   "metadata": {},
   "source": [
    "### And I do this because, I also want to do kind of sanity check and use the principal component analysis implementation from circuit learn and just see what it will do with my original data set. And if the results that we get from our manual computation are close to what the out of the box PCA implementation in circuit learning this. So, I will just call this decomposition.PCA method and I'll request the first two principal components. And then I will transform my original data based on the components and I'll print the results. And then you'll see that they are actually an exact match.\n",
    "### "
   ]
  },
  {
   "cell_type": "code",
   "execution_count": 80,
   "metadata": {},
   "outputs": [
    {
     "name": "stdout",
     "output_type": "stream",
     "text": [
      "[[ 1.97812455  1.18924584]\n",
      " [-1.93772363  0.43245658]\n",
      " [-3.25091797  0.04440771]\n",
      " [-0.12295254  0.28557622]\n",
      " [-2.18055566 -0.20793946]\n",
      " [-0.84363103 -0.22052313]\n",
      " [ 0.15975102 -0.28036266]\n",
      " [ 3.13515266 -0.06080918]\n",
      " [ 1.78978762 -0.45341595]\n",
      " [ 1.27296497 -0.72863598]]\n"
     ]
    }
   ],
   "source": [
    "from sklearn import decomposition\n",
    "pca=decomposition.PCA(n_components=2)\n",
    "print (pca.fit_transform(A))"
   ]
  },
  {
   "cell_type": "markdown",
   "metadata": {},
   "source": [
    "## PCA in SystemML"
   ]
  },
  {
   "cell_type": "markdown",
   "metadata": {},
   "source": [
    "### if you want to PCA against really large data sets, you would like to use something scalable, something like SystemML. \n",
    "### So, let's go to the PCA DMS script of SystemML, that's where our Principle Component Analysing implementation resides.\n",
    "### And we can take a look, first in the parameters that the script expects. You have the input that your original data set, your input matrix. K is the number of dimensions that you would like to end up with in the new data set. So, does the number of principal components that will use to reduce the other dimensionality. There are certain flags, for example if we want to center, or scale the data, and you can also optionally provide an existing model. So, a location of already calculated eigenvectors, or eigenvalues. And then it's really very self-explanatory.\n",
    "### And we can take a look, first in the parameters that the script expects. You have the input that your original data set, your input matrix. K is the number of dimensions that you would like to end up with in the new data set. So, does the number of principal components that will use to reduce the other dimensionality. There are certain flags, for example if we want to center, or scale the data, and you can also optionally provide an existing model. So, a location of already calculated eigenvectors, or eigenvalues. And then it's really very self-explanatory.\n",
    "### And then we use a building function to compute the eigenvalues and eigenvectors. And then, what we do is, we actually sort them. So, we get the most important principle component first, and so on. And then, once we have the eigenvalues and eigenvector sorted, we take the first K elements from these arrays, and these are our outputs of the model. So, if we also have to project the data, you'll see that we have the new data, is just the result of taking the original data and multiplying it by the dominant eigenvectors, and we save it to the external of our system. \n",
    "### o, that's how the principal components analysis in SystemML is implemented. And I'm sure that you have a super good understanding of how it's done, and you can actually tweak it, or tailor it to your needs if that's needed."
   ]
  },
  {
   "cell_type": "markdown",
   "metadata": {},
   "source": [
    "## Quiz PCA"
   ]
  },
  {
   "cell_type": "markdown",
   "metadata": {},
   "source": [
    "## What are the implications of using highly dimensional data?\n",
    "### Data becomes sparse as we add dimensions, Data becomes sparse as we add dimensions\n",
    "\n",
    "## The process of reducing the number of random variables by obtaining a smaller set of artificial features is known as\n",
    "### feature reduction\n",
    "\n",
    "## What are some linear methods for dimensionality reduction?\n",
    "### Principal Component Analysis (PCA), Linear Discriminant Analysis (LDA), \n",
    "\n",
    "## Which line gives the direction of greatest variance in the data set plotted above?\n",
    "### red\n",
    "\n",
    "## We use _______________ to measure how a group of random variables vary together.\n",
    "### covariance\n",
    "\n",
    "## Using PCA to reduce the dimensionality of a data set involves the following steps:\n",
    "### 1. Centre the data, 2. Find the eigenvalues and eigenvectors of Sigma, 3. Compute the covariance matrix, 4. Select new dimensions and project the data\n",
    "### 1,3,2,4\n",
    "\n",
    "## In PCA, the second principal component is ______________ to the first principal component.\n",
    "### Perpendicular\n",
    "\n",
    "## SystemML provides an out-of-the-box implementation of PCA.\n",
    "### True"
   ]
  },
  {
   "cell_type": "code",
   "execution_count": null,
   "metadata": {},
   "outputs": [],
   "source": []
  }
 ],
 "metadata": {
  "kernelspec": {
   "display_name": "Python 2 with Spark 2.1",
   "language": "python",
   "name": "python2-spark21"
  },
  "language_info": {
   "codemirror_mode": {
    "name": "ipython",
    "version": 2
   },
   "file_extension": ".py",
   "mimetype": "text/x-python",
   "name": "python",
   "nbconvert_exporter": "python",
   "pygments_lexer": "ipython2",
   "version": "2.7.14"
  }
 },
 "nbformat": 4,
 "nbformat_minor": 1
}
